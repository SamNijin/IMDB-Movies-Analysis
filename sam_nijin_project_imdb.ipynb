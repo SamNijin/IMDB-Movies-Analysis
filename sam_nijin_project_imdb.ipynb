{
 "cells": [
  {
   "cell_type": "markdown",
   "metadata": {
    "id": "OQp1jEId4-Zr"
   },
   "source": [
    ""
   ]
  },
  {
   "cell_type": "markdown",
   "metadata": {
    "id": "Cy7nxZSG4-Zw"
   },
   "source": [
    "###  Analysis on IMDB useful libraries with sql\n",
    "\n",
    "> ### Explanation\n",
    "\n",
    "**SQLite :** - SQLite database is integrated with the application that accesses the database. The applications interact with the SQLite database read and write directly from the database files stored on disk.\n",
    "         \n",
    "- SQLite does NOT require a server to run.\n",
    "\n",
    "\n",
    "- Refer at https://www.sqlite.org/index.html\n",
    "    \n",
    "    \n",
    "    \n",
    "> \n",
    "\n",
    "\n",
    "**PANDAS :**\n",
    "    - Pandas provide high performance, fast, easy to use data structures and data analysis tools for manipulating numeric data and time series. Pandas is built on the numpy library and written in languages like Python, Cython, and C. In pandas, we can import data from various file formats like JSON, SQL, Microsoft Excel, etc.\n",
    "    \n",
    "**NUMPY:**\n",
    "       - Numpy is an Python library,It is used for scientific computing in python.It contains a collection of tools and techniques that can be used to solve on computers with mathematical model of problems.\n",
    "       - High performance and multi-dimensional areay objects.\n",
    "       - High level mathematical functions.\n",
    "       - matrices\n",
    "       \n",
    "       \n",
    " ### Data Visualizations\n",
    " - Data Visualization is the graphic representation of data. It converts a huge dataset into small graphs, thus aids in data analysis and predictions\n",
    "       \n",
    "**MATPLOTLIB**\n",
    "- It is a Python library used for plotting graphs with the help of other libraries like Numpy and Pandas. It is a powerful tool for visualizing data in Python. It is used for creating statical interferences and plotting 2D graphs of arrays\n",
    "\n",
    "**SEABORN:**\n",
    "- It is also a Python library used for plotting graphs with the help of Matplotlib, Pandas, and Numpy. It is built on the roof of Matplotlib and is considered as a superset of the Matplotlib library. It helps in visualizing univariate and bivariate data"
   ]
  },
  {
   "cell_type": "code",
   "execution_count": 1,
   "metadata": {
    "id": "D5yhVwkQ4-Z1",
    "tags": []
   },
   "outputs": [],
   "source": [
    "# Import Pandas and NumPy\n",
    "\n",
    "import numpy as np\n",
    "import pandas as pd\n",
    "\n",
    "# Import Libraries for plotting    # Visualizations\n",
    "import matplotlib.pyplot as plt\n",
    "import seaborn as sns\n",
    "\n",
    "\n",
    "\n",
    "#pip install db-sqlite3\n",
    "#SQLite in general is a server-less database that you can use within almost all programming languages including Python.\n",
    "import sqlite3\n",
    "\n",
    "\n",
    "# Supress Warnings\n",
    "\n"
   ]
  },
  {
   "cell_type": "markdown",
   "metadata": {
    "id": "4Qpt4Ozd4-Z4"
   },
   "source": [
    "####   We import the sqlite3 module and then create a connection object which will connect us to the database and will let us execute the SQL statements.\n",
    "> - sqlite3.connect(Database)\n",
    "> - **cursor()** - we can use the cursor object to call the execute() method to execute any SQL queries.\n",
    "\n",
    "\n",
    "#### STEPS\n",
    "> To query data in an SQLite database from Python, you use these steps:\n",
    "\n",
    "- First, establish a connection to the SQLite database by creating a Connection object.\n",
    "- Next, create a Cursor object using the cursor method of the Connection object.\n",
    "- Then, execute a  SELECT statement.\n",
    "- After that, call the fetchall() method of the cursor object to fetch the data.\n",
    "- Finally, loop the cursor and process each row individually.\n"
   ]
  },
  {
   "cell_type": "code",
   "execution_count": 2,
   "metadata": {
    "id": "3rO18udG4-Z4",
    "tags": []
   },
   "outputs": [],
   "source": [
    "mycon = sqlite3.connect('./movies.sqlite')\n",
    "cur = mycon.cursor()"
   ]
  },
  {
   "cell_type": "code",
   "execution_count": 3,
   "metadata": {},
   "outputs": [
    {
     "data": {
      "text/plain": [
       "<sqlite3.Cursor at 0x248f9f26ea0>"
      ]
     },
     "execution_count": 3,
     "metadata": {},
     "output_type": "execute_result"
    }
   ],
   "source": [
    "# Checking the connection\n",
    "cur"
   ]
  },
  {
   "cell_type": "markdown",
   "metadata": {
    "id": "r5Q70yC84-Z5"
   },
   "source": [
    "## QUESTIONS"
   ]
  },
  {
   "cell_type": "markdown",
   "metadata": {
    "id": "zx8eqbPY4-Z6"
   },
   "source": [
    "#### **Question 1:** Can you get all data about movies?"
   ]
  },
  {
   "cell_type": "code",
   "execution_count": 4,
   "metadata": {
    "colab": {
     "base_uri": "https://localhost:8080/",
     "height": 589
    },
    "id": "jLV0A1Yd4-Z6",
    "outputId": "6932ab19-8f7a-4049-9ee8-a3b41bb6a25e",
    "tags": []
   },
   "outputs": [
    {
     "name": "stdout",
     "output_type": "stream",
     "text": [
      "Shape of Movies data : (4773, 13)\n",
      "\n",
      "\n",
      "\n"
     ]
    },
    {
     "data": {
      "text/html": [
       "<div>\n",
       "<style scoped>\n",
       "    .dataframe tbody tr th:only-of-type {\n",
       "        vertical-align: middle;\n",
       "    }\n",
       "\n",
       "    .dataframe tbody tr th {\n",
       "        vertical-align: top;\n",
       "    }\n",
       "\n",
       "    .dataframe thead th {\n",
       "        text-align: right;\n",
       "    }\n",
       "</style>\n",
       "<table border=\"1\" class=\"dataframe\">\n",
       "  <thead>\n",
       "    <tr style=\"text-align: right;\">\n",
       "      <th></th>\n",
       "      <th>id</th>\n",
       "      <th>original_title</th>\n",
       "      <th>budget</th>\n",
       "      <th>popularity</th>\n",
       "      <th>release_date</th>\n",
       "      <th>revenue</th>\n",
       "      <th>title</th>\n",
       "      <th>vote_average</th>\n",
       "      <th>vote_count</th>\n",
       "      <th>overview</th>\n",
       "      <th>tagline</th>\n",
       "      <th>uid</th>\n",
       "      <th>director_id</th>\n",
       "    </tr>\n",
       "  </thead>\n",
       "  <tbody>\n",
       "    <tr>\n",
       "      <th>0</th>\n",
       "      <td>43597</td>\n",
       "      <td>Avatar</td>\n",
       "      <td>237000000</td>\n",
       "      <td>150</td>\n",
       "      <td>2009-12-10</td>\n",
       "      <td>2787965087</td>\n",
       "      <td>Avatar</td>\n",
       "      <td>7.2</td>\n",
       "      <td>11800</td>\n",
       "      <td>In the 22nd century, a paraplegic Marine is di...</td>\n",
       "      <td>Enter the World of Pandora.</td>\n",
       "      <td>19995</td>\n",
       "      <td>4762</td>\n",
       "    </tr>\n",
       "    <tr>\n",
       "      <th>1</th>\n",
       "      <td>43598</td>\n",
       "      <td>Pirates of the Caribbean: At World's End</td>\n",
       "      <td>300000000</td>\n",
       "      <td>139</td>\n",
       "      <td>2007-05-19</td>\n",
       "      <td>961000000</td>\n",
       "      <td>Pirates of the Caribbean: At World's End</td>\n",
       "      <td>6.9</td>\n",
       "      <td>4500</td>\n",
       "      <td>Captain Barbossa, long believed to be dead, ha...</td>\n",
       "      <td>At the end of the world, the adventure begins.</td>\n",
       "      <td>285</td>\n",
       "      <td>4763</td>\n",
       "    </tr>\n",
       "    <tr>\n",
       "      <th>2</th>\n",
       "      <td>43599</td>\n",
       "      <td>Spectre</td>\n",
       "      <td>245000000</td>\n",
       "      <td>107</td>\n",
       "      <td>2015-10-26</td>\n",
       "      <td>880674609</td>\n",
       "      <td>Spectre</td>\n",
       "      <td>6.3</td>\n",
       "      <td>4466</td>\n",
       "      <td>A cryptic message from Bond’s past sends him o...</td>\n",
       "      <td>A Plan No One Escapes</td>\n",
       "      <td>206647</td>\n",
       "      <td>4764</td>\n",
       "    </tr>\n",
       "  </tbody>\n",
       "</table>\n",
       "</div>"
      ],
      "text/plain": [
       "      id                            original_title     budget  popularity  \\\n",
       "0  43597                                    Avatar  237000000         150   \n",
       "1  43598  Pirates of the Caribbean: At World's End  300000000         139   \n",
       "2  43599                                   Spectre  245000000         107   \n",
       "\n",
       "  release_date     revenue                                     title  \\\n",
       "0   2009-12-10  2787965087                                    Avatar   \n",
       "1   2007-05-19   961000000  Pirates of the Caribbean: At World's End   \n",
       "2   2015-10-26   880674609                                   Spectre   \n",
       "\n",
       "   vote_average  vote_count  \\\n",
       "0           7.2       11800   \n",
       "1           6.9        4500   \n",
       "2           6.3        4466   \n",
       "\n",
       "                                            overview  \\\n",
       "0  In the 22nd century, a paraplegic Marine is di...   \n",
       "1  Captain Barbossa, long believed to be dead, ha...   \n",
       "2  A cryptic message from Bond’s past sends him o...   \n",
       "\n",
       "                                          tagline     uid  director_id  \n",
       "0                     Enter the World of Pandora.   19995         4762  \n",
       "1  At the end of the world, the adventure begins.     285         4763  \n",
       "2                           A Plan No One Escapes  206647         4764  "
      ]
     },
     "execution_count": 4,
     "metadata": {},
     "output_type": "execute_result"
    }
   ],
   "source": [
    "cur.execute('SELECT * FROM movies')\n",
    "#use the cursor object to call the execute() method to execute any SQL queries.\n",
    "movies = cur.fetchall()\n",
    "\n",
    "# #movies -> if u print movies , all the data shown in list manner, can't understanadble\n",
    "\n",
    "# #Note - fetchall() --> fetch all rows for the current query, if no rows avaliable then,it returns an empty list.\n",
    "\n",
    "# Creating a DataFrame of pandas from the data from the database and assigning column names\n",
    "\n",
    "movies = pd.DataFrame(movies, columns = ['id', 'original_title', 'budget', 'popularity', 'release_date', 'revenue', 'title', 'vote_average', 'vote_count', 'overview', 'tagline', 'uid', 'director_id'])\n",
    "# #Creating a dataframe, A dataframe contains rows and columns , It is a Two-dimensional, size-mutable, potentially heterogeneous tabular data.\n",
    "\n",
    "\n",
    "print('Shape of Movies data :',movies.shape)\n",
    "print('\\n\\n')\n",
    "movies.head(3)\n",
    "# #Displays first 3 rows in the table\n"
   ]
  },
  {
   "cell_type": "code",
   "execution_count": 5,
   "metadata": {
    "colab": {
     "base_uri": "https://localhost:8080/",
     "height": 1000
    },
    "id": "458SBlmiDb-L",
    "outputId": "0c4f3c42-10e7-46e0-a204-6d906630e9e9"
   },
   "outputs": [
    {
     "data": {
      "text/html": [
       "<div>\n",
       "<style scoped>\n",
       "    .dataframe tbody tr th:only-of-type {\n",
       "        vertical-align: middle;\n",
       "    }\n",
       "\n",
       "    .dataframe tbody tr th {\n",
       "        vertical-align: top;\n",
       "    }\n",
       "\n",
       "    .dataframe thead th {\n",
       "        text-align: right;\n",
       "    }\n",
       "</style>\n",
       "<table border=\"1\" class=\"dataframe\">\n",
       "  <thead>\n",
       "    <tr style=\"text-align: right;\">\n",
       "      <th></th>\n",
       "      <th>id</th>\n",
       "      <th>original_title</th>\n",
       "      <th>budget</th>\n",
       "      <th>popularity</th>\n",
       "      <th>release_date</th>\n",
       "      <th>revenue</th>\n",
       "      <th>title</th>\n",
       "      <th>vote_average</th>\n",
       "      <th>vote_count</th>\n",
       "      <th>overview</th>\n",
       "      <th>tagline</th>\n",
       "      <th>uid</th>\n",
       "      <th>director_id</th>\n",
       "    </tr>\n",
       "  </thead>\n",
       "  <tbody>\n",
       "    <tr>\n",
       "      <th>0</th>\n",
       "      <td>43597</td>\n",
       "      <td>Avatar</td>\n",
       "      <td>237000000</td>\n",
       "      <td>150</td>\n",
       "      <td>2009-12-10</td>\n",
       "      <td>2787965087</td>\n",
       "      <td>Avatar</td>\n",
       "      <td>7.2</td>\n",
       "      <td>11800</td>\n",
       "      <td>In the 22nd century, a paraplegic Marine is di...</td>\n",
       "      <td>Enter the World of Pandora.</td>\n",
       "      <td>19995</td>\n",
       "      <td>4762</td>\n",
       "    </tr>\n",
       "    <tr>\n",
       "      <th>1</th>\n",
       "      <td>43598</td>\n",
       "      <td>Pirates of the Caribbean: At World's End</td>\n",
       "      <td>300000000</td>\n",
       "      <td>139</td>\n",
       "      <td>2007-05-19</td>\n",
       "      <td>961000000</td>\n",
       "      <td>Pirates of the Caribbean: At World's End</td>\n",
       "      <td>6.9</td>\n",
       "      <td>4500</td>\n",
       "      <td>Captain Barbossa, long believed to be dead, ha...</td>\n",
       "      <td>At the end of the world, the adventure begins.</td>\n",
       "      <td>285</td>\n",
       "      <td>4763</td>\n",
       "    </tr>\n",
       "    <tr>\n",
       "      <th>2</th>\n",
       "      <td>43599</td>\n",
       "      <td>Spectre</td>\n",
       "      <td>245000000</td>\n",
       "      <td>107</td>\n",
       "      <td>2015-10-26</td>\n",
       "      <td>880674609</td>\n",
       "      <td>Spectre</td>\n",
       "      <td>6.3</td>\n",
       "      <td>4466</td>\n",
       "      <td>A cryptic message from Bond’s past sends him o...</td>\n",
       "      <td>A Plan No One Escapes</td>\n",
       "      <td>206647</td>\n",
       "      <td>4764</td>\n",
       "    </tr>\n",
       "    <tr>\n",
       "      <th>3</th>\n",
       "      <td>43600</td>\n",
       "      <td>The Dark Knight Rises</td>\n",
       "      <td>250000000</td>\n",
       "      <td>112</td>\n",
       "      <td>2012-07-16</td>\n",
       "      <td>1084939099</td>\n",
       "      <td>The Dark Knight Rises</td>\n",
       "      <td>7.6</td>\n",
       "      <td>9106</td>\n",
       "      <td>Following the death of District Attorney Harve...</td>\n",
       "      <td>The Legend Ends</td>\n",
       "      <td>49026</td>\n",
       "      <td>4765</td>\n",
       "    </tr>\n",
       "    <tr>\n",
       "      <th>4</th>\n",
       "      <td>43601</td>\n",
       "      <td>John Carter</td>\n",
       "      <td>260000000</td>\n",
       "      <td>43</td>\n",
       "      <td>2012-03-07</td>\n",
       "      <td>284139100</td>\n",
       "      <td>John Carter</td>\n",
       "      <td>6.1</td>\n",
       "      <td>2124</td>\n",
       "      <td>John Carter is a war-weary, former military ca...</td>\n",
       "      <td>Lost in our world, found in another.</td>\n",
       "      <td>49529</td>\n",
       "      <td>4766</td>\n",
       "    </tr>\n",
       "    <tr>\n",
       "      <th>...</th>\n",
       "      <td>...</td>\n",
       "      <td>...</td>\n",
       "      <td>...</td>\n",
       "      <td>...</td>\n",
       "      <td>...</td>\n",
       "      <td>...</td>\n",
       "      <td>...</td>\n",
       "      <td>...</td>\n",
       "      <td>...</td>\n",
       "      <td>...</td>\n",
       "      <td>...</td>\n",
       "      <td>...</td>\n",
       "      <td>...</td>\n",
       "    </tr>\n",
       "    <tr>\n",
       "      <th>4768</th>\n",
       "      <td>48395</td>\n",
       "      <td>El Mariachi</td>\n",
       "      <td>220000</td>\n",
       "      <td>14</td>\n",
       "      <td>1992-09-04</td>\n",
       "      <td>2040920</td>\n",
       "      <td>El Mariachi</td>\n",
       "      <td>6.6</td>\n",
       "      <td>238</td>\n",
       "      <td>El Mariachi just wants to play his guitar and ...</td>\n",
       "      <td>He didn't come looking for trouble, but troubl...</td>\n",
       "      <td>9367</td>\n",
       "      <td>5097</td>\n",
       "    </tr>\n",
       "    <tr>\n",
       "      <th>4769</th>\n",
       "      <td>48396</td>\n",
       "      <td>Newlyweds</td>\n",
       "      <td>9000</td>\n",
       "      <td>0</td>\n",
       "      <td>2011-12-26</td>\n",
       "      <td>0</td>\n",
       "      <td>Newlyweds</td>\n",
       "      <td>5.9</td>\n",
       "      <td>5</td>\n",
       "      <td>A newlywed couple's honeymoon is upended by th...</td>\n",
       "      <td>A newlywed couple's honeymoon is upended by th...</td>\n",
       "      <td>72766</td>\n",
       "      <td>6485</td>\n",
       "    </tr>\n",
       "    <tr>\n",
       "      <th>4770</th>\n",
       "      <td>48397</td>\n",
       "      <td>Signed, Sealed, Delivered</td>\n",
       "      <td>0</td>\n",
       "      <td>1</td>\n",
       "      <td>2013-10-13</td>\n",
       "      <td>0</td>\n",
       "      <td>Signed, Sealed, Delivered</td>\n",
       "      <td>7.0</td>\n",
       "      <td>6</td>\n",
       "      <td>\"Signed, Sealed, Delivered\" introduces a dedic...</td>\n",
       "      <td>None</td>\n",
       "      <td>231617</td>\n",
       "      <td>7108</td>\n",
       "    </tr>\n",
       "    <tr>\n",
       "      <th>4771</th>\n",
       "      <td>48398</td>\n",
       "      <td>Shanghai Calling</td>\n",
       "      <td>0</td>\n",
       "      <td>0</td>\n",
       "      <td>2012-05-03</td>\n",
       "      <td>0</td>\n",
       "      <td>Shanghai Calling</td>\n",
       "      <td>5.7</td>\n",
       "      <td>7</td>\n",
       "      <td>When ambitious New York attorney Sam is sent t...</td>\n",
       "      <td>A New Yorker in Shanghai</td>\n",
       "      <td>126186</td>\n",
       "      <td>7109</td>\n",
       "    </tr>\n",
       "    <tr>\n",
       "      <th>4772</th>\n",
       "      <td>48399</td>\n",
       "      <td>My Date with Drew</td>\n",
       "      <td>0</td>\n",
       "      <td>1</td>\n",
       "      <td>2005-08-05</td>\n",
       "      <td>0</td>\n",
       "      <td>My Date with Drew</td>\n",
       "      <td>6.3</td>\n",
       "      <td>16</td>\n",
       "      <td>Ever since the second grade when he first saw ...</td>\n",
       "      <td>None</td>\n",
       "      <td>25975</td>\n",
       "      <td>7110</td>\n",
       "    </tr>\n",
       "  </tbody>\n",
       "</table>\n",
       "<p>4773 rows × 13 columns</p>\n",
       "</div>"
      ],
      "text/plain": [
       "         id                            original_title     budget  popularity  \\\n",
       "0     43597                                    Avatar  237000000         150   \n",
       "1     43598  Pirates of the Caribbean: At World's End  300000000         139   \n",
       "2     43599                                   Spectre  245000000         107   \n",
       "3     43600                     The Dark Knight Rises  250000000         112   \n",
       "4     43601                               John Carter  260000000          43   \n",
       "...     ...                                       ...        ...         ...   \n",
       "4768  48395                               El Mariachi     220000          14   \n",
       "4769  48396                                 Newlyweds       9000           0   \n",
       "4770  48397                 Signed, Sealed, Delivered          0           1   \n",
       "4771  48398                          Shanghai Calling          0           0   \n",
       "4772  48399                         My Date with Drew          0           1   \n",
       "\n",
       "     release_date     revenue                                     title  \\\n",
       "0      2009-12-10  2787965087                                    Avatar   \n",
       "1      2007-05-19   961000000  Pirates of the Caribbean: At World's End   \n",
       "2      2015-10-26   880674609                                   Spectre   \n",
       "3      2012-07-16  1084939099                     The Dark Knight Rises   \n",
       "4      2012-03-07   284139100                               John Carter   \n",
       "...           ...         ...                                       ...   \n",
       "4768   1992-09-04     2040920                               El Mariachi   \n",
       "4769   2011-12-26           0                                 Newlyweds   \n",
       "4770   2013-10-13           0                 Signed, Sealed, Delivered   \n",
       "4771   2012-05-03           0                          Shanghai Calling   \n",
       "4772   2005-08-05           0                         My Date with Drew   \n",
       "\n",
       "      vote_average  vote_count  \\\n",
       "0              7.2       11800   \n",
       "1              6.9        4500   \n",
       "2              6.3        4466   \n",
       "3              7.6        9106   \n",
       "4              6.1        2124   \n",
       "...            ...         ...   \n",
       "4768           6.6         238   \n",
       "4769           5.9           5   \n",
       "4770           7.0           6   \n",
       "4771           5.7           7   \n",
       "4772           6.3          16   \n",
       "\n",
       "                                               overview  \\\n",
       "0     In the 22nd century, a paraplegic Marine is di...   \n",
       "1     Captain Barbossa, long believed to be dead, ha...   \n",
       "2     A cryptic message from Bond’s past sends him o...   \n",
       "3     Following the death of District Attorney Harve...   \n",
       "4     John Carter is a war-weary, former military ca...   \n",
       "...                                                 ...   \n",
       "4768  El Mariachi just wants to play his guitar and ...   \n",
       "4769  A newlywed couple's honeymoon is upended by th...   \n",
       "4770  \"Signed, Sealed, Delivered\" introduces a dedic...   \n",
       "4771  When ambitious New York attorney Sam is sent t...   \n",
       "4772  Ever since the second grade when he first saw ...   \n",
       "\n",
       "                                                tagline     uid  director_id  \n",
       "0                           Enter the World of Pandora.   19995         4762  \n",
       "1        At the end of the world, the adventure begins.     285         4763  \n",
       "2                                 A Plan No One Escapes  206647         4764  \n",
       "3                                       The Legend Ends   49026         4765  \n",
       "4                  Lost in our world, found in another.   49529         4766  \n",
       "...                                                 ...     ...          ...  \n",
       "4768  He didn't come looking for trouble, but troubl...    9367         5097  \n",
       "4769  A newlywed couple's honeymoon is upended by th...   72766         6485  \n",
       "4770                                               None  231617         7108  \n",
       "4771                           A New Yorker in Shanghai  126186         7109  \n",
       "4772                                               None   25975         7110  \n",
       "\n",
       "[4773 rows x 13 columns]"
      ]
     },
     "execution_count": 5,
     "metadata": {},
     "output_type": "execute_result"
    }
   ],
   "source": [
    "import pandas as pd\n",
    "\n",
    "# Reading Data from database and store in movies_df using pandas function called pd.read_sql\n",
    "\n",
    "movies_df = pd.read_sql('SELECT * FROM movies', mycon)\n",
    "movies_df"
   ]
  },
  {
   "cell_type": "code",
   "execution_count": 6,
   "metadata": {
    "colab": {
     "base_uri": "https://localhost:8080/"
    },
    "id": "goLaza3u4-Z7",
    "outputId": "f27393c2-7fb3-4ea5-c2d8-216914f9151d",
    "tags": []
   },
   "outputs": [
    {
     "name": "stdout",
     "output_type": "stream",
     "text": [
      "<class 'pandas.core.frame.DataFrame'>\n",
      "RangeIndex: 4773 entries, 0 to 4772\n",
      "Data columns (total 13 columns):\n",
      " #   Column          Non-Null Count  Dtype  \n",
      "---  ------          --------------  -----  \n",
      " 0   id              4773 non-null   int64  \n",
      " 1   original_title  4773 non-null   object \n",
      " 2   budget          4773 non-null   int64  \n",
      " 3   popularity      4773 non-null   int64  \n",
      " 4   release_date    4773 non-null   object \n",
      " 5   revenue         4773 non-null   int64  \n",
      " 6   title           4773 non-null   object \n",
      " 7   vote_average    4773 non-null   float64\n",
      " 8   vote_count      4773 non-null   int64  \n",
      " 9   overview        4770 non-null   object \n",
      " 10  tagline         3951 non-null   object \n",
      " 11  uid             4773 non-null   int64  \n",
      " 12  director_id     4773 non-null   int64  \n",
      "dtypes: float64(1), int64(7), object(5)\n",
      "memory usage: 484.9+ KB\n"
     ]
    }
   ],
   "source": [
    "# Checking the information of this dataframe\n",
    "movies_df.info()"
   ]
  },
  {
   "cell_type": "code",
   "execution_count": 7,
   "metadata": {},
   "outputs": [
    {
     "data": {
      "text/plain": [
       "id                  0\n",
       "original_title      0\n",
       "budget              0\n",
       "popularity          0\n",
       "release_date        0\n",
       "revenue             0\n",
       "title               0\n",
       "vote_average        0\n",
       "vote_count          0\n",
       "overview            3\n",
       "tagline           822\n",
       "uid                 0\n",
       "director_id         0\n",
       "dtype: int64"
      ]
     },
     "execution_count": 7,
     "metadata": {},
     "output_type": "execute_result"
    }
   ],
   "source": [
    "# Checking the sum of NaN values\n",
    "\n",
    "movies_df.isna().sum()"
   ]
  },
  {
   "cell_type": "markdown",
   "metadata": {
    "id": "v3c9rX2a4-Z8"
   },
   "source": [
    "\n",
    "#### **Question 2:** How do you get all data about directors?"
   ]
  },
  {
   "cell_type": "code",
   "execution_count": 8,
   "metadata": {
    "colab": {
     "base_uri": "https://localhost:8080/",
     "height": 424
    },
    "id": "mKv_WQHaEBD5",
    "outputId": "e35e7216-ae40-4bc5-ff82-78fa95818091"
   },
   "outputs": [
    {
     "data": {
      "text/html": [
       "<div>\n",
       "<style scoped>\n",
       "    .dataframe tbody tr th:only-of-type {\n",
       "        vertical-align: middle;\n",
       "    }\n",
       "\n",
       "    .dataframe tbody tr th {\n",
       "        vertical-align: top;\n",
       "    }\n",
       "\n",
       "    .dataframe thead th {\n",
       "        text-align: right;\n",
       "    }\n",
       "</style>\n",
       "<table border=\"1\" class=\"dataframe\">\n",
       "  <thead>\n",
       "    <tr style=\"text-align: right;\">\n",
       "      <th></th>\n",
       "      <th>name</th>\n",
       "      <th>id</th>\n",
       "      <th>gender</th>\n",
       "      <th>uid</th>\n",
       "      <th>department</th>\n",
       "    </tr>\n",
       "  </thead>\n",
       "  <tbody>\n",
       "    <tr>\n",
       "      <th>0</th>\n",
       "      <td>James Cameron</td>\n",
       "      <td>4762</td>\n",
       "      <td>2</td>\n",
       "      <td>2710</td>\n",
       "      <td>Directing</td>\n",
       "    </tr>\n",
       "    <tr>\n",
       "      <th>1</th>\n",
       "      <td>Gore Verbinski</td>\n",
       "      <td>4763</td>\n",
       "      <td>2</td>\n",
       "      <td>1704</td>\n",
       "      <td>Directing</td>\n",
       "    </tr>\n",
       "    <tr>\n",
       "      <th>2</th>\n",
       "      <td>Sam Mendes</td>\n",
       "      <td>4764</td>\n",
       "      <td>2</td>\n",
       "      <td>39</td>\n",
       "      <td>Directing</td>\n",
       "    </tr>\n",
       "    <tr>\n",
       "      <th>3</th>\n",
       "      <td>Christopher Nolan</td>\n",
       "      <td>4765</td>\n",
       "      <td>2</td>\n",
       "      <td>525</td>\n",
       "      <td>Directing</td>\n",
       "    </tr>\n",
       "    <tr>\n",
       "      <th>4</th>\n",
       "      <td>Andrew Stanton</td>\n",
       "      <td>4766</td>\n",
       "      <td>2</td>\n",
       "      <td>7</td>\n",
       "      <td>Directing</td>\n",
       "    </tr>\n",
       "    <tr>\n",
       "      <th>...</th>\n",
       "      <td>...</td>\n",
       "      <td>...</td>\n",
       "      <td>...</td>\n",
       "      <td>...</td>\n",
       "      <td>...</td>\n",
       "    </tr>\n",
       "    <tr>\n",
       "      <th>2344</th>\n",
       "      <td>Shane Carruth</td>\n",
       "      <td>7106</td>\n",
       "      <td>2</td>\n",
       "      <td>76624</td>\n",
       "      <td>Directing</td>\n",
       "    </tr>\n",
       "    <tr>\n",
       "      <th>2345</th>\n",
       "      <td>Neill Dela Llana</td>\n",
       "      <td>7107</td>\n",
       "      <td>0</td>\n",
       "      <td>1174437</td>\n",
       "      <td>Directing</td>\n",
       "    </tr>\n",
       "    <tr>\n",
       "      <th>2346</th>\n",
       "      <td>Scott Smith</td>\n",
       "      <td>7108</td>\n",
       "      <td>0</td>\n",
       "      <td>1219158</td>\n",
       "      <td>Directing</td>\n",
       "    </tr>\n",
       "    <tr>\n",
       "      <th>2347</th>\n",
       "      <td>Daniel Hsia</td>\n",
       "      <td>7109</td>\n",
       "      <td>2</td>\n",
       "      <td>208138</td>\n",
       "      <td>Directing</td>\n",
       "    </tr>\n",
       "    <tr>\n",
       "      <th>2348</th>\n",
       "      <td>Brian Herzlinger</td>\n",
       "      <td>7110</td>\n",
       "      <td>2</td>\n",
       "      <td>85563</td>\n",
       "      <td>Directing</td>\n",
       "    </tr>\n",
       "  </tbody>\n",
       "</table>\n",
       "<p>2349 rows × 5 columns</p>\n",
       "</div>"
      ],
      "text/plain": [
       "                   name    id  gender      uid department\n",
       "0         James Cameron  4762       2     2710  Directing\n",
       "1        Gore Verbinski  4763       2     1704  Directing\n",
       "2            Sam Mendes  4764       2       39  Directing\n",
       "3     Christopher Nolan  4765       2      525  Directing\n",
       "4        Andrew Stanton  4766       2        7  Directing\n",
       "...                 ...   ...     ...      ...        ...\n",
       "2344      Shane Carruth  7106       2    76624  Directing\n",
       "2345   Neill Dela Llana  7107       0  1174437  Directing\n",
       "2346        Scott Smith  7108       0  1219158  Directing\n",
       "2347        Daniel Hsia  7109       2   208138  Directing\n",
       "2348   Brian Herzlinger  7110       2    85563  Directing\n",
       "\n",
       "[2349 rows x 5 columns]"
      ]
     },
     "execution_count": 8,
     "metadata": {},
     "output_type": "execute_result"
    }
   ],
   "source": [
    "# Assign query to a variable called query and passed it as a parameter in the reas_sql function of pandas\n",
    "\n",
    "query = 'SELECT * FROM directors'\n",
    "directors_df = pd.read_sql(query, mycon)\n",
    "directors_df"
   ]
  },
  {
   "cell_type": "code",
   "execution_count": 9,
   "metadata": {
    "colab": {
     "base_uri": "https://localhost:8080/"
    },
    "id": "X003TVDC4-Z8",
    "outputId": "2ad653c1-d1fc-405d-e7ff-afbc40fc96da",
    "tags": []
   },
   "outputs": [
    {
     "name": "stdout",
     "output_type": "stream",
     "text": [
      "<class 'pandas.core.frame.DataFrame'>\n",
      "RangeIndex: 2349 entries, 0 to 2348\n",
      "Data columns (total 5 columns):\n",
      " #   Column      Non-Null Count  Dtype \n",
      "---  ------      --------------  ----- \n",
      " 0   name        2349 non-null   object\n",
      " 1   id          2349 non-null   int64 \n",
      " 2   gender      2349 non-null   int64 \n",
      " 3   uid         2349 non-null   int64 \n",
      " 4   department  2349 non-null   object\n",
      "dtypes: int64(3), object(2)\n",
      "memory usage: 91.9+ KB\n"
     ]
    }
   ],
   "source": [
    "# Checking information of the directors_df\n",
    "directors_df.info()"
   ]
  },
  {
   "cell_type": "markdown",
   "metadata": {
    "id": "E9byWjY94-Z8"
   },
   "source": [
    "#### **Question 3:** Check how many movies are present in iMDB."
   ]
  },
  {
   "cell_type": "code",
   "execution_count": 10,
   "metadata": {
    "colab": {
     "base_uri": "https://localhost:8080/"
    },
    "id": "0rSEELYe4-Z8",
    "outputId": "efe925da-a7fc-4fb3-8923-57a5ec3e7fad",
    "tags": []
   },
   "outputs": [
    {
     "name": "stdout",
     "output_type": "stream",
     "text": [
      "the number of movies is present in IMDB is  : (4773,)\n"
     ]
    }
   ],
   "source": [
    "cur.execute('SELECT COUNT (id) from movies;')\n",
    "#use the cursor object to call the execute() method to execute any SQL queries.\n",
    "count = cur.fetchall()\n",
    "print(\"the number of movies is present in IMDB is  :\",count[0])\n",
    "#Note - fetchall() --> fetch all rows for the current query, if no rows avaliable then,it returns an empty list.\n",
    "\n",
    "\n"
   ]
  },
  {
   "cell_type": "code",
   "execution_count": 11,
   "metadata": {
    "id": "HyjG5fA-Hc_E"
   },
   "outputs": [],
   "source": [
    "##ASSIGNMENT\n",
    "\n",
    "# dataframes to be used for pandas - movies_df, directors_df\n",
    "# for sql table names are movies and directors"
   ]
  },
  {
   "cell_type": "markdown",
   "metadata": {
    "id": "jvfPNpPp4-Z9"
   },
   "source": [
    "#### **Question 4:** Find these 3 directors: James Cameron ; Luc Besson ; John Woo\n"
   ]
  },
  {
   "cell_type": "code",
   "execution_count": 12,
   "metadata": {
    "id": "8fztG2yQChq3"
   },
   "outputs": [
    {
     "data": {
      "text/plain": [
       "[('James Cameron', 4762, 2, 2710, 'Directing'),\n",
       " ('John Woo', 4893, 2, 11401, 'Directing'),\n",
       " ('Luc Besson', 4949, 2, 59, 'Directing')]"
      ]
     },
     "execution_count": 12,
     "metadata": {},
     "output_type": "execute_result"
    }
   ],
   "source": [
    "# Query to select all fields where the three directors name \n",
    "query = 'SELECT * FROM directors WHERE name = \"James Cameron\" OR NAME = \"Luc Besson\" OR NAME = \"John Woo\" AND department = \"Directing\"'\n",
    "cur.execute(query)\n",
    "cur.fetchall()"
   ]
  },
  {
   "cell_type": "markdown",
   "metadata": {
    "id": "MEj00t4X4-Z9"
   },
   "source": [
    "#### **Question 5:** Find all directors with name starting with Steven.\n"
   ]
  },
  {
   "cell_type": "code",
   "execution_count": 13,
   "metadata": {
    "id": "WbBRrw0oHaTz"
   },
   "outputs": [
    {
     "data": {
      "text/html": [
       "<div>\n",
       "<style scoped>\n",
       "    .dataframe tbody tr th:only-of-type {\n",
       "        vertical-align: middle;\n",
       "    }\n",
       "\n",
       "    .dataframe tbody tr th {\n",
       "        vertical-align: top;\n",
       "    }\n",
       "\n",
       "    .dataframe thead th {\n",
       "        text-align: right;\n",
       "    }\n",
       "</style>\n",
       "<table border=\"1\" class=\"dataframe\">\n",
       "  <thead>\n",
       "    <tr style=\"text-align: right;\">\n",
       "      <th></th>\n",
       "      <th>Name</th>\n",
       "      <th>id</th>\n",
       "      <th>gender</th>\n",
       "      <th>uid</th>\n",
       "      <th>department</th>\n",
       "    </tr>\n",
       "  </thead>\n",
       "  <tbody>\n",
       "    <tr>\n",
       "      <th>0</th>\n",
       "      <td>Steven Spielberg</td>\n",
       "      <td>4799</td>\n",
       "      <td>2</td>\n",
       "      <td>488</td>\n",
       "      <td>Directing</td>\n",
       "    </tr>\n",
       "    <tr>\n",
       "      <th>1</th>\n",
       "      <td>Steven Soderbergh</td>\n",
       "      <td>4909</td>\n",
       "      <td>2</td>\n",
       "      <td>1884</td>\n",
       "      <td>Directing</td>\n",
       "    </tr>\n",
       "    <tr>\n",
       "      <th>2</th>\n",
       "      <td>Steven Brill</td>\n",
       "      <td>5013</td>\n",
       "      <td>2</td>\n",
       "      <td>32593</td>\n",
       "      <td>Directing</td>\n",
       "    </tr>\n",
       "    <tr>\n",
       "      <th>3</th>\n",
       "      <td>Steven Zaillian</td>\n",
       "      <td>5117</td>\n",
       "      <td>2</td>\n",
       "      <td>2260</td>\n",
       "      <td>Directing</td>\n",
       "    </tr>\n",
       "    <tr>\n",
       "      <th>4</th>\n",
       "      <td>Steven Quale</td>\n",
       "      <td>5216</td>\n",
       "      <td>2</td>\n",
       "      <td>93214</td>\n",
       "      <td>Directing</td>\n",
       "    </tr>\n",
       "    <tr>\n",
       "      <th>5</th>\n",
       "      <td>Steven Seagal</td>\n",
       "      <td>5221</td>\n",
       "      <td>2</td>\n",
       "      <td>23880</td>\n",
       "      <td>Directing</td>\n",
       "    </tr>\n",
       "    <tr>\n",
       "      <th>6</th>\n",
       "      <td>Steven E. de Souza</td>\n",
       "      <td>5390</td>\n",
       "      <td>2</td>\n",
       "      <td>1726</td>\n",
       "      <td>Directing</td>\n",
       "    </tr>\n",
       "    <tr>\n",
       "      <th>7</th>\n",
       "      <td>Steven Shainberg</td>\n",
       "      <td>5803</td>\n",
       "      <td>2</td>\n",
       "      <td>67795</td>\n",
       "      <td>Directing</td>\n",
       "    </tr>\n",
       "    <tr>\n",
       "      <th>8</th>\n",
       "      <td>Steven R. Monroe</td>\n",
       "      <td>6713</td>\n",
       "      <td>2</td>\n",
       "      <td>88039</td>\n",
       "      <td>Directing</td>\n",
       "    </tr>\n",
       "  </tbody>\n",
       "</table>\n",
       "</div>"
      ],
      "text/plain": [
       "                 Name    id  gender    uid department\n",
       "0    Steven Spielberg  4799       2    488  Directing\n",
       "1   Steven Soderbergh  4909       2   1884  Directing\n",
       "2        Steven Brill  5013       2  32593  Directing\n",
       "3     Steven Zaillian  5117       2   2260  Directing\n",
       "4        Steven Quale  5216       2  93214  Directing\n",
       "5       Steven Seagal  5221       2  23880  Directing\n",
       "6  Steven E. de Souza  5390       2   1726  Directing\n",
       "7    Steven Shainberg  5803       2  67795  Directing\n",
       "8    Steven R. Monroe  6713       2  88039  Directing"
      ]
     },
     "execution_count": 13,
     "metadata": {},
     "output_type": "execute_result"
    }
   ],
   "source": [
    "# Query to filter out names starting with Steven\n",
    "query = 'SELECT * FROM directors WHERE name LIKE \"Steven%\"'\n",
    "cur.execute(query)\n",
    "# cur.fetchall()\n",
    "\n",
    "# Storing the data after filtering in a pandas dataframe\n",
    "df = pd.DataFrame(cur.fetchall(), columns=['Name', 'id', 'gender','uid', 'department'])\n",
    "df"
   ]
  },
  {
   "cell_type": "markdown",
   "metadata": {
    "id": "_oTk6SJ24-Z-"
   },
   "source": [
    "#### **Question 6:** Count female directors.\n"
   ]
  },
  {
   "cell_type": "code",
   "execution_count": 14,
   "metadata": {},
   "outputs": [
    {
     "data": {
      "text/plain": [
       "name                id    gender  uid      department\n",
       "Aaron Hann          6671  0       1454563  Directing     1\n",
       "Mor Loushy          6972  0       1414864  Directing     1\n",
       "Mike Nawrocki       5870  2       78298    Directing     1\n",
       "Mike Newell         4797  2       10723    Directing     1\n",
       "Mike Nichols        5031  2       5342     Directing     1\n",
       "                                                        ..\n",
       "Guillaume Ivernel   5799  2       66856    Directing     1\n",
       "Guillermo del Toro  4798  2       10828    Directing     1\n",
       "Gurinder Chadha     6134  1       6220     Directing     1\n",
       "Gus Van Sant        5283  2       5216     Directing     1\n",
       "Étienne Faure       6993  0       1555903  Directing     1\n",
       "Length: 2349, dtype: int64"
      ]
     },
     "execution_count": 14,
     "metadata": {},
     "output_type": "execute_result"
    }
   ],
   "source": [
    "# Checking the data for the value of female gender in the table and founded to be 0\n",
    "directors_df.value_counts()"
   ]
  },
  {
   "cell_type": "code",
   "execution_count": 15,
   "metadata": {
    "id": "N5Zi-f0zH3zN"
   },
   "outputs": [
    {
     "name": "stdout",
     "output_type": "stream",
     "text": [
      "Total Number of female directors in the given table is 625\n"
     ]
    }
   ],
   "source": [
    "# Query to count the id value where the gender is equal to 0\n",
    "query = 'SELECT count(id) FROM directors WHERE gender = 0'\n",
    "cur.execute(query)\n",
    "\n",
    "# Printing the value using print function\n",
    "\n",
    "print(f'Total Number of female directors in the given table is {cur.fetchall()[0][0]}')"
   ]
  },
  {
   "cell_type": "markdown",
   "metadata": {
    "id": "HQNVMkaC4-Z-"
   },
   "source": [
    "#### **Question 7:**  Find the name of the 10th first women directors?\n"
   ]
  },
  {
   "cell_type": "code",
   "execution_count": 16,
   "metadata": {
    "id": "At093LJ1H7-b"
   },
   "outputs": [
    {
     "data": {
      "text/html": [
       "<div>\n",
       "<style scoped>\n",
       "    .dataframe tbody tr th:only-of-type {\n",
       "        vertical-align: middle;\n",
       "    }\n",
       "\n",
       "    .dataframe tbody tr th {\n",
       "        vertical-align: top;\n",
       "    }\n",
       "\n",
       "    .dataframe thead th {\n",
       "        text-align: right;\n",
       "    }\n",
       "</style>\n",
       "<table border=\"1\" class=\"dataframe\">\n",
       "  <thead>\n",
       "    <tr style=\"text-align: right;\">\n",
       "      <th></th>\n",
       "      <th>Name</th>\n",
       "    </tr>\n",
       "  </thead>\n",
       "  <tbody>\n",
       "    <tr>\n",
       "      <th>1</th>\n",
       "      <td>Chris Weitz</td>\n",
       "    </tr>\n",
       "    <tr>\n",
       "      <th>2</th>\n",
       "      <td>Justin Lin</td>\n",
       "    </tr>\n",
       "    <tr>\n",
       "      <th>3</th>\n",
       "      <td>David Ayer</td>\n",
       "    </tr>\n",
       "    <tr>\n",
       "      <th>4</th>\n",
       "      <td>Kevin Reynolds</td>\n",
       "    </tr>\n",
       "    <tr>\n",
       "      <th>5</th>\n",
       "      <td>Robert Stromberg</td>\n",
       "    </tr>\n",
       "    <tr>\n",
       "      <th>6</th>\n",
       "      <td>Roland Joffé</td>\n",
       "    </tr>\n",
       "    <tr>\n",
       "      <th>7</th>\n",
       "      <td>Carl Rinsch</td>\n",
       "    </tr>\n",
       "    <tr>\n",
       "      <th>8</th>\n",
       "      <td>James Bobin</td>\n",
       "    </tr>\n",
       "    <tr>\n",
       "      <th>9</th>\n",
       "      <td>Chris Buck</td>\n",
       "    </tr>\n",
       "    <tr>\n",
       "      <th>10</th>\n",
       "      <td>Hoyt Yeatman</td>\n",
       "    </tr>\n",
       "  </tbody>\n",
       "</table>\n",
       "</div>"
      ],
      "text/plain": [
       "                Name\n",
       "1        Chris Weitz\n",
       "2         Justin Lin\n",
       "3         David Ayer\n",
       "4     Kevin Reynolds\n",
       "5   Robert Stromberg\n",
       "6       Roland Joffé\n",
       "7        Carl Rinsch\n",
       "8        James Bobin\n",
       "9         Chris Buck\n",
       "10      Hoyt Yeatman"
      ]
     },
     "execution_count": 16,
     "metadata": {},
     "output_type": "execute_result"
    }
   ],
   "source": [
    "# Query to select name of female directors and limiting it to be 10\n",
    "\n",
    "query = 'SELECT name FROM directors WHERE gender = 0 AND department = \"Directing\" limit 10'\n",
    "cur.execute(query)\n",
    "\n",
    "# Making a dataframe and displaying with custom index using numpy arange function\n",
    "df = pd.DataFrame(cur.fetchall(), columns=['Name'])\n",
    "df.index = (np.arange(1,11))\n",
    "df"
   ]
  },
  {
   "cell_type": "markdown",
   "metadata": {
    "id": "tN_3wcMf4-Z-"
   },
   "source": [
    "#### **Question 8:** What are the 3 most popular movies?\n"
   ]
  },
  {
   "cell_type": "code",
   "execution_count": 17,
   "metadata": {
    "id": "4qNEUPfVH8Yw"
   },
   "outputs": [
    {
     "data": {
      "text/html": [
       "<div>\n",
       "<style scoped>\n",
       "    .dataframe tbody tr th:only-of-type {\n",
       "        vertical-align: middle;\n",
       "    }\n",
       "\n",
       "    .dataframe tbody tr th {\n",
       "        vertical-align: top;\n",
       "    }\n",
       "\n",
       "    .dataframe thead th {\n",
       "        text-align: right;\n",
       "    }\n",
       "</style>\n",
       "<table border=\"1\" class=\"dataframe\">\n",
       "  <thead>\n",
       "    <tr style=\"text-align: right;\">\n",
       "      <th></th>\n",
       "      <th>Movie Title</th>\n",
       "      <th>Popularity</th>\n",
       "    </tr>\n",
       "  </thead>\n",
       "  <tbody>\n",
       "    <tr>\n",
       "      <th>1</th>\n",
       "      <td>Minions</td>\n",
       "      <td>875</td>\n",
       "    </tr>\n",
       "    <tr>\n",
       "      <th>2</th>\n",
       "      <td>Interstellar</td>\n",
       "      <td>724</td>\n",
       "    </tr>\n",
       "    <tr>\n",
       "      <th>3</th>\n",
       "      <td>Deadpool</td>\n",
       "      <td>514</td>\n",
       "    </tr>\n",
       "  </tbody>\n",
       "</table>\n",
       "</div>"
      ],
      "text/plain": [
       "    Movie Title  Popularity\n",
       "1       Minions         875\n",
       "2  Interstellar         724\n",
       "3      Deadpool         514"
      ]
     },
     "execution_count": 17,
     "metadata": {},
     "output_type": "execute_result"
    }
   ],
   "source": [
    "# query to select the top 3 most popular movies in the given table\n",
    "query = 'SELECT original_title, popularity from movies order by popularity desc limit 3'\n",
    "cur.execute(query)\n",
    "# making the result as a DataFrame and providing custom columns and index\n",
    "df  = pd.DataFrame(cur.fetchall(), columns=['Movie Title', 'Popularity'], index = np.arange(1,4))\n",
    "df"
   ]
  },
  {
   "cell_type": "markdown",
   "metadata": {
    "id": "_VhRo5eL4-Z_"
   },
   "source": [
    "#### **Question 9:**  What are the 3 most bankable movies?\n",
    " "
   ]
  },
  {
   "cell_type": "code",
   "execution_count": 18,
   "metadata": {
    "id": "YJ6yyNwPIKXJ"
   },
   "outputs": [
    {
     "data": {
      "text/html": [
       "<div>\n",
       "<style scoped>\n",
       "    .dataframe tbody tr th:only-of-type {\n",
       "        vertical-align: middle;\n",
       "    }\n",
       "\n",
       "    .dataframe tbody tr th {\n",
       "        vertical-align: top;\n",
       "    }\n",
       "\n",
       "    .dataframe thead th {\n",
       "        text-align: right;\n",
       "    }\n",
       "</style>\n",
       "<table border=\"1\" class=\"dataframe\">\n",
       "  <thead>\n",
       "    <tr style=\"text-align: right;\">\n",
       "      <th></th>\n",
       "      <th>Movie Title</th>\n",
       "      <th>Revenue</th>\n",
       "    </tr>\n",
       "  </thead>\n",
       "  <tbody>\n",
       "    <tr>\n",
       "      <th>1</th>\n",
       "      <td>Minions</td>\n",
       "      <td>1156730962</td>\n",
       "    </tr>\n",
       "    <tr>\n",
       "      <th>2</th>\n",
       "      <td>Interstellar</td>\n",
       "      <td>675120017</td>\n",
       "    </tr>\n",
       "    <tr>\n",
       "      <th>3</th>\n",
       "      <td>Deadpool</td>\n",
       "      <td>783112979</td>\n",
       "    </tr>\n",
       "  </tbody>\n",
       "</table>\n",
       "</div>"
      ],
      "text/plain": [
       "    Movie Title     Revenue\n",
       "1       Minions  1156730962\n",
       "2  Interstellar   675120017\n",
       "3      Deadpool   783112979"
      ]
     },
     "execution_count": 18,
     "metadata": {},
     "output_type": "execute_result"
    }
   ],
   "source": [
    "# query to select the top 3 most bankable (Most Revenge gained) movies in the given table\n",
    "query = 'SELECT original_title, revenue from movies order by popularity desc limit 3'\n",
    "cur.execute(query)\n",
    "# making the result as a DataFrame and providing custom columns and index\n",
    "df  = pd.DataFrame(cur.fetchall(), columns=['Movie Title', 'Revenue'], index = np.arange(1,4))\n",
    "df"
   ]
  },
  {
   "cell_type": "markdown",
   "metadata": {
    "id": "yjph7hOj4-Z_"
   },
   "source": [
    "#### **Question 10:**  What is the most awarded average vote since the January 1st, 2000?\n"
   ]
  },
  {
   "cell_type": "code",
   "execution_count": 19,
   "metadata": {
    "id": "rC4LASHhINFP"
   },
   "outputs": [
    {
     "data": {
      "text/html": [
       "<div>\n",
       "<style scoped>\n",
       "    .dataframe tbody tr th:only-of-type {\n",
       "        vertical-align: middle;\n",
       "    }\n",
       "\n",
       "    .dataframe tbody tr th {\n",
       "        vertical-align: top;\n",
       "    }\n",
       "\n",
       "    .dataframe thead th {\n",
       "        text-align: right;\n",
       "    }\n",
       "</style>\n",
       "<table border=\"1\" class=\"dataframe\">\n",
       "  <thead>\n",
       "    <tr style=\"text-align: right;\">\n",
       "      <th></th>\n",
       "      <th>Movie Title</th>\n",
       "      <th>Average Vote</th>\n",
       "      <th>Vote Count</th>\n",
       "      <th>Release Date</th>\n",
       "      <th>Max Avg Vote</th>\n",
       "    </tr>\n",
       "  </thead>\n",
       "  <tbody>\n",
       "    <tr>\n",
       "      <th>0</th>\n",
       "      <td>Sardaarji</td>\n",
       "      <td>9.5</td>\n",
       "      <td>2</td>\n",
       "      <td>2015-06-26</td>\n",
       "      <td>9.5</td>\n",
       "    </tr>\n",
       "  </tbody>\n",
       "</table>\n",
       "</div>"
      ],
      "text/plain": [
       "  Movie Title  Average Vote  Vote Count Release Date  Max Avg Vote\n",
       "0   Sardaarji           9.5           2   2015-06-26           9.5"
      ]
     },
     "execution_count": 19,
     "metadata": {},
     "output_type": "execute_result"
    }
   ],
   "source": [
    "# query to select the top 3 most bankable (Most Revenge gained) movies in the given table\n",
    "query = 'SELECT original_title,vote_average, vote_count, release_date, max(vote_average) from movies WHERE release_date > \"2000-01-01\"'\n",
    "cur.execute(query)\n",
    "# making the result as a DataFrame and providing custom columns and index\n",
    "df  = pd.DataFrame(cur.fetchall(), columns=['Movie Title', 'Average Vote', 'Vote Count', 'Release Date', 'Max Avg Vote'],)\n",
    "df"
   ]
  },
  {
   "cell_type": "markdown",
   "metadata": {
    "id": "h6RRWsi04-aA"
   },
   "source": [
    "### JOINS\n",
    "> Inner join\n",
    "> left join\n",
    "> right join\n",
    "> full outer join\n",
    "- #### Explanation\n",
    "\n",
    "> Inner join : - Wherever the data matching between the two tables only thouse records will displayed . (Only matched in both tables)\n",
    "\n",
    "> Left join : - All the data which is present on the left side will displayed, irrespective it having matching entry will displays or if it does not match entry on another table\n",
    "\n",
    "> Right join : - ( vice-versa ) as Left join From right table all records will displayas, irrespective\n",
    "But in left table who are matching are be displayed\n",
    "\n",
    "> full outer join : -  It is a combination of  Inner join , Left join, Right join.\n",
    "> **Full outer join** shows all matching records,\n",
    "- It will displays all matching records as well as It will display non matching records  On left table and right table.\n",
    "- It will show every thing on what tables contains\n",
    "                        \n",
    "                     \n",
    "        \n",
    "**NOTE** \n",
    "- >  Left join display all records in left table\n",
    "- >  Right join display all records in right table\n",
    "- >  Inner join display only matching records from tables\n",
    "\n"
   ]
  },
  {
   "cell_type": "markdown",
   "metadata": {
    "id": "oLgbknrv4-aA"
   },
   "source": [
    "#### **Question 11:**  Which movie(s) were directed by Brenda Chapman?\n"
   ]
  },
  {
   "cell_type": "code",
   "execution_count": 20,
   "metadata": {
    "id": "fVGXfXTOGLsm"
   },
   "outputs": [
    {
     "data": {
      "text/html": [
       "<div>\n",
       "<style scoped>\n",
       "    .dataframe tbody tr th:only-of-type {\n",
       "        vertical-align: middle;\n",
       "    }\n",
       "\n",
       "    .dataframe tbody tr th {\n",
       "        vertical-align: top;\n",
       "    }\n",
       "\n",
       "    .dataframe thead th {\n",
       "        text-align: right;\n",
       "    }\n",
       "</style>\n",
       "<table border=\"1\" class=\"dataframe\">\n",
       "  <thead>\n",
       "    <tr style=\"text-align: right;\">\n",
       "      <th></th>\n",
       "      <th>name</th>\n",
       "      <th>id</th>\n",
       "      <th>gender</th>\n",
       "      <th>uid</th>\n",
       "      <th>department</th>\n",
       "      <th>id</th>\n",
       "      <th>original_title</th>\n",
       "      <th>budget</th>\n",
       "      <th>popularity</th>\n",
       "      <th>release_date</th>\n",
       "      <th>revenue</th>\n",
       "      <th>title</th>\n",
       "      <th>vote_average</th>\n",
       "      <th>vote_count</th>\n",
       "      <th>overview</th>\n",
       "      <th>tagline</th>\n",
       "      <th>uid</th>\n",
       "      <th>director_id</th>\n",
       "    </tr>\n",
       "  </thead>\n",
       "  <tbody>\n",
       "    <tr>\n",
       "      <th>0</th>\n",
       "      <td>Brenda Chapman</td>\n",
       "      <td>4801</td>\n",
       "      <td>1</td>\n",
       "      <td>59803</td>\n",
       "      <td>Directing</td>\n",
       "      <td>43652</td>\n",
       "      <td>Brave</td>\n",
       "      <td>185000000</td>\n",
       "      <td>125</td>\n",
       "      <td>2012-06-21</td>\n",
       "      <td>538983207</td>\n",
       "      <td>Brave</td>\n",
       "      <td>6.7</td>\n",
       "      <td>4641</td>\n",
       "      <td>Brave is set in the mystical Scottish Highland...</td>\n",
       "      <td>Change your fate.</td>\n",
       "      <td>62177</td>\n",
       "      <td>4801</td>\n",
       "    </tr>\n",
       "  </tbody>\n",
       "</table>\n",
       "</div>"
      ],
      "text/plain": [
       "             name    id  gender    uid department     id original_title  \\\n",
       "0  Brenda Chapman  4801       1  59803  Directing  43652          Brave   \n",
       "\n",
       "      budget  popularity release_date    revenue  title  vote_average  \\\n",
       "0  185000000         125   2012-06-21  538983207  Brave           6.7   \n",
       "\n",
       "   vote_count                                           overview  \\\n",
       "0        4641  Brave is set in the mystical Scottish Highland...   \n",
       "\n",
       "             tagline    uid  director_id  \n",
       "0  Change your fate.  62177         4801  "
      ]
     },
     "execution_count": 20,
     "metadata": {},
     "output_type": "execute_result"
    }
   ],
   "source": [
    "#using sql\n",
    "\n",
    "# Query to join two tables and list the data directed by Brenda Chapman\n",
    "query = 'SELECT * FROM directors LEFT JOIN movies ON directors.id = movies.director_id  where name = \"Brenda Chapman\"'\n",
    "# cur.execute(query)\n",
    "# cur.fetchall()\n",
    "\n",
    "df = pd.read_sql(query, mycon)\n",
    "df"
   ]
  },
  {
   "cell_type": "markdown",
   "metadata": {
    "id": "hsg0k5PN4-aA"
   },
   "source": [
    "#### **Question 12:** Whose director made the most movies?\n",
    "\n"
   ]
  },
  {
   "cell_type": "code",
   "execution_count": 21,
   "metadata": {
    "id": "hpn6Qqn-GMTE"
   },
   "outputs": [
    {
     "data": {
      "text/html": [
       "<div>\n",
       "<style scoped>\n",
       "    .dataframe tbody tr th:only-of-type {\n",
       "        vertical-align: middle;\n",
       "    }\n",
       "\n",
       "    .dataframe tbody tr th {\n",
       "        vertical-align: top;\n",
       "    }\n",
       "\n",
       "    .dataframe thead th {\n",
       "        text-align: right;\n",
       "    }\n",
       "</style>\n",
       "<table border=\"1\" class=\"dataframe\">\n",
       "  <thead>\n",
       "    <tr style=\"text-align: right;\">\n",
       "      <th></th>\n",
       "      <th>number_of_movies</th>\n",
       "      <th>name</th>\n",
       "    </tr>\n",
       "  </thead>\n",
       "  <tbody>\n",
       "    <tr>\n",
       "      <th>0</th>\n",
       "      <td>27</td>\n",
       "      <td>Steven Spielberg</td>\n",
       "    </tr>\n",
       "    <tr>\n",
       "      <th>1</th>\n",
       "      <td>21</td>\n",
       "      <td>Woody Allen</td>\n",
       "    </tr>\n",
       "    <tr>\n",
       "      <th>2</th>\n",
       "      <td>20</td>\n",
       "      <td>Martin Scorsese</td>\n",
       "    </tr>\n",
       "    <tr>\n",
       "      <th>3</th>\n",
       "      <td>20</td>\n",
       "      <td>Clint Eastwood</td>\n",
       "    </tr>\n",
       "    <tr>\n",
       "      <th>4</th>\n",
       "      <td>16</td>\n",
       "      <td>Spike Lee</td>\n",
       "    </tr>\n",
       "    <tr>\n",
       "      <th>...</th>\n",
       "      <td>...</td>\n",
       "      <td>...</td>\n",
       "    </tr>\n",
       "    <tr>\n",
       "      <th>2344</th>\n",
       "      <td>1</td>\n",
       "      <td>Adam Carolla</td>\n",
       "    </tr>\n",
       "    <tr>\n",
       "      <th>2345</th>\n",
       "      <td>1</td>\n",
       "      <td>Adam Brooks</td>\n",
       "    </tr>\n",
       "    <tr>\n",
       "      <th>2346</th>\n",
       "      <td>1</td>\n",
       "      <td>Abel Ferrara</td>\n",
       "    </tr>\n",
       "    <tr>\n",
       "      <th>2347</th>\n",
       "      <td>1</td>\n",
       "      <td>Aaron Schneider</td>\n",
       "    </tr>\n",
       "    <tr>\n",
       "      <th>2348</th>\n",
       "      <td>1</td>\n",
       "      <td>Aaron Hann</td>\n",
       "    </tr>\n",
       "  </tbody>\n",
       "</table>\n",
       "<p>2349 rows × 2 columns</p>\n",
       "</div>"
      ],
      "text/plain": [
       "      number_of_movies              name\n",
       "0                   27  Steven Spielberg\n",
       "1                   21       Woody Allen\n",
       "2                   20   Martin Scorsese\n",
       "3                   20    Clint Eastwood\n",
       "4                   16         Spike Lee\n",
       "...                ...               ...\n",
       "2344                 1      Adam Carolla\n",
       "2345                 1       Adam Brooks\n",
       "2346                 1      Abel Ferrara\n",
       "2347                 1   Aaron Schneider\n",
       "2348                 1        Aaron Hann\n",
       "\n",
       "[2349 rows x 2 columns]"
      ]
     },
     "execution_count": 21,
     "metadata": {},
     "output_type": "execute_result"
    }
   ],
   "source": [
    "# Query to list the number of movies by certain director and order it  by descending to show the director with the most movies\n",
    "query = 'SELECT count(movies.id) AS number_of_movies , name FROM directors LEFT JOIN movies ON directors.id = movies.director_id group by name ORDER BY count(movies.id) DESC'\n",
    "df = pd.read_sql(query, mycon)\n",
    "df"
   ]
  },
  {
   "cell_type": "markdown",
   "metadata": {
    "id": "vuTyiDMD4-aB"
   },
   "source": [
    "#### **Question 13:** Whose director is the most bankable?\n"
   ]
  },
  {
   "cell_type": "code",
   "execution_count": 22,
   "metadata": {
    "id": "BNCvoP05GNHX"
   },
   "outputs": [
    {
     "data": {
      "text/html": [
       "<div>\n",
       "<style scoped>\n",
       "    .dataframe tbody tr th:only-of-type {\n",
       "        vertical-align: middle;\n",
       "    }\n",
       "\n",
       "    .dataframe tbody tr th {\n",
       "        vertical-align: top;\n",
       "    }\n",
       "\n",
       "    .dataframe thead th {\n",
       "        text-align: right;\n",
       "    }\n",
       "</style>\n",
       "<table border=\"1\" class=\"dataframe\">\n",
       "  <thead>\n",
       "    <tr style=\"text-align: right;\">\n",
       "      <th></th>\n",
       "      <th>total_revenue</th>\n",
       "      <th>name</th>\n",
       "    </tr>\n",
       "  </thead>\n",
       "  <tbody>\n",
       "    <tr>\n",
       "      <th>0</th>\n",
       "      <td>2787965087</td>\n",
       "      <td>James Cameron</td>\n",
       "    </tr>\n",
       "    <tr>\n",
       "      <th>1</th>\n",
       "      <td>1519557910</td>\n",
       "      <td>Joss Whedon</td>\n",
       "    </tr>\n",
       "    <tr>\n",
       "      <th>2</th>\n",
       "      <td>1513528810</td>\n",
       "      <td>Colin Trevorrow</td>\n",
       "    </tr>\n",
       "    <tr>\n",
       "      <th>3</th>\n",
       "      <td>1506249360</td>\n",
       "      <td>James Wan</td>\n",
       "    </tr>\n",
       "    <tr>\n",
       "      <th>4</th>\n",
       "      <td>1274219009</td>\n",
       "      <td>Chris Buck</td>\n",
       "    </tr>\n",
       "    <tr>\n",
       "      <th>...</th>\n",
       "      <td>...</td>\n",
       "      <td>...</td>\n",
       "    </tr>\n",
       "    <tr>\n",
       "      <th>2344</th>\n",
       "      <td>0</td>\n",
       "      <td>Adam Green</td>\n",
       "    </tr>\n",
       "    <tr>\n",
       "      <th>2345</th>\n",
       "      <td>0</td>\n",
       "      <td>Adam Goldberg</td>\n",
       "    </tr>\n",
       "    <tr>\n",
       "      <th>2346</th>\n",
       "      <td>0</td>\n",
       "      <td>Adam Carolla</td>\n",
       "    </tr>\n",
       "    <tr>\n",
       "      <th>2347</th>\n",
       "      <td>0</td>\n",
       "      <td>Aaron Schneider</td>\n",
       "    </tr>\n",
       "    <tr>\n",
       "      <th>2348</th>\n",
       "      <td>0</td>\n",
       "      <td>Aaron Hann</td>\n",
       "    </tr>\n",
       "  </tbody>\n",
       "</table>\n",
       "<p>2349 rows × 2 columns</p>\n",
       "</div>"
      ],
      "text/plain": [
       "      total_revenue             name\n",
       "0        2787965087    James Cameron\n",
       "1        1519557910      Joss Whedon\n",
       "2        1513528810  Colin Trevorrow\n",
       "3        1506249360        James Wan\n",
       "4        1274219009       Chris Buck\n",
       "...             ...              ...\n",
       "2344              0       Adam Green\n",
       "2345              0    Adam Goldberg\n",
       "2346              0     Adam Carolla\n",
       "2347              0  Aaron Schneider\n",
       "2348              0       Aaron Hann\n",
       "\n",
       "[2349 rows x 2 columns]"
      ]
     },
     "execution_count": 22,
     "metadata": {},
     "output_type": "execute_result"
    }
   ],
   "source": [
    "# Query to get the most profitable director by finding the max function and ordering it on descending\n",
    "query = 'SELECT max(revenue) AS total_revenue , name FROM directors LEFT JOIN movies ON directors.id = movies.director_id group by name ORDER BY max(revenue) DESC'\n",
    "df = pd.read_sql(query, mycon)\n",
    "df"
   ]
  },
  {
   "cell_type": "markdown",
   "metadata": {
    "id": "B4HEYabH4-aC"
   },
   "source": [
    "# Analysis on IMDB DATA SET"
   ]
  },
  {
   "cell_type": "markdown",
   "metadata": {
    "id": "n5Dr3hie4-aC"
   },
   "source": [
    "### Budget Analysis"
   ]
  },
  {
   "cell_type": "markdown",
   "metadata": {
    "id": "m7WS1Dzz4-aC"
   },
   "source": [
    "**Question** - List out Top 10 highest budget made movies "
   ]
  },
  {
   "cell_type": "code",
   "execution_count": 23,
   "metadata": {
    "id": "tZGtySZrGKua"
   },
   "outputs": [
    {
     "data": {
      "text/html": [
       "<div>\n",
       "<style scoped>\n",
       "    .dataframe tbody tr th:only-of-type {\n",
       "        vertical-align: middle;\n",
       "    }\n",
       "\n",
       "    .dataframe tbody tr th {\n",
       "        vertical-align: top;\n",
       "    }\n",
       "\n",
       "    .dataframe thead th {\n",
       "        text-align: right;\n",
       "    }\n",
       "</style>\n",
       "<table border=\"1\" class=\"dataframe\">\n",
       "  <thead>\n",
       "    <tr style=\"text-align: right;\">\n",
       "      <th></th>\n",
       "      <th>original_title</th>\n",
       "      <th>director_name</th>\n",
       "      <th>budget</th>\n",
       "    </tr>\n",
       "  </thead>\n",
       "  <tbody>\n",
       "    <tr>\n",
       "      <th>0</th>\n",
       "      <td>Pirates of the Caribbean: On Stranger Tides</td>\n",
       "      <td>Rob Marshall</td>\n",
       "      <td>380000000</td>\n",
       "    </tr>\n",
       "    <tr>\n",
       "      <th>1</th>\n",
       "      <td>Pirates of the Caribbean: At World's End</td>\n",
       "      <td>Gore Verbinski</td>\n",
       "      <td>300000000</td>\n",
       "    </tr>\n",
       "    <tr>\n",
       "      <th>2</th>\n",
       "      <td>Avengers: Age of Ultron</td>\n",
       "      <td>Joss Whedon</td>\n",
       "      <td>280000000</td>\n",
       "    </tr>\n",
       "    <tr>\n",
       "      <th>3</th>\n",
       "      <td>Superman Returns</td>\n",
       "      <td>Bryan Singer</td>\n",
       "      <td>270000000</td>\n",
       "    </tr>\n",
       "    <tr>\n",
       "      <th>4</th>\n",
       "      <td>John Carter</td>\n",
       "      <td>Andrew Stanton</td>\n",
       "      <td>260000000</td>\n",
       "    </tr>\n",
       "    <tr>\n",
       "      <th>5</th>\n",
       "      <td>Tangled</td>\n",
       "      <td>Byron Howard</td>\n",
       "      <td>260000000</td>\n",
       "    </tr>\n",
       "    <tr>\n",
       "      <th>6</th>\n",
       "      <td>Spider-Man 3</td>\n",
       "      <td>Sam Raimi</td>\n",
       "      <td>258000000</td>\n",
       "    </tr>\n",
       "    <tr>\n",
       "      <th>7</th>\n",
       "      <td>The Lone Ranger</td>\n",
       "      <td>Gore Verbinski</td>\n",
       "      <td>255000000</td>\n",
       "    </tr>\n",
       "    <tr>\n",
       "      <th>8</th>\n",
       "      <td>The Dark Knight Rises</td>\n",
       "      <td>Christopher Nolan</td>\n",
       "      <td>250000000</td>\n",
       "    </tr>\n",
       "    <tr>\n",
       "      <th>9</th>\n",
       "      <td>Harry Potter and the Half-Blood Prince</td>\n",
       "      <td>David Yates</td>\n",
       "      <td>250000000</td>\n",
       "    </tr>\n",
       "  </tbody>\n",
       "</table>\n",
       "</div>"
      ],
      "text/plain": [
       "                                original_title      director_name     budget\n",
       "0  Pirates of the Caribbean: On Stranger Tides       Rob Marshall  380000000\n",
       "1     Pirates of the Caribbean: At World's End     Gore Verbinski  300000000\n",
       "2                      Avengers: Age of Ultron        Joss Whedon  280000000\n",
       "3                             Superman Returns       Bryan Singer  270000000\n",
       "4                                  John Carter     Andrew Stanton  260000000\n",
       "5                                      Tangled       Byron Howard  260000000\n",
       "6                                 Spider-Man 3          Sam Raimi  258000000\n",
       "7                              The Lone Ranger     Gore Verbinski  255000000\n",
       "8                        The Dark Knight Rises  Christopher Nolan  250000000\n",
       "9       Harry Potter and the Half-Blood Prince        David Yates  250000000"
      ]
     },
     "execution_count": 23,
     "metadata": {},
     "output_type": "execute_result"
    }
   ],
   "source": [
    "# Query to get top 10 high budget movies\n",
    "query = 'SELECT original_title, directors.name AS director_name, budget FROM movies LEFT JOIN directors on movies.director_id = directors.id ORDER BY budget DESC LIMIT 10'\n",
    "df = pd.read_sql (query,mycon)\n",
    "df"
   ]
  },
  {
   "cell_type": "markdown",
   "metadata": {
    "id": "VFKQ7yhb4-aC"
   },
   "source": [
    "\n",
    "\n",
    "\n",
    "\n",
    "> ## Note :\n",
    "\n",
    "The mostExpensive Table Contains List Of Movies With Highest Production Costs. \n",
    "\n",
    "For Your Information, Pirates of the Caribbean: On Stranger Tides, Directed By Rob Marshall, Is The Most Production Costs, It's USD 380,000,000."
   ]
  },
  {
   "cell_type": "markdown",
   "metadata": {
    "id": "dhSHR7tM4-aC"
   },
   "source": [
    "### Popularity Analysis"
   ]
  },
  {
   "cell_type": "markdown",
   "metadata": {
    "id": "rIJRXghu4-aD"
   },
   "source": [
    "**Question**- List out Top 10 popularity on movies"
   ]
  },
  {
   "cell_type": "code",
   "execution_count": 24,
   "metadata": {
    "id": "jvjsJp46GJ7R"
   },
   "outputs": [
    {
     "data": {
      "text/html": [
       "<div>\n",
       "<style scoped>\n",
       "    .dataframe tbody tr th:only-of-type {\n",
       "        vertical-align: middle;\n",
       "    }\n",
       "\n",
       "    .dataframe tbody tr th {\n",
       "        vertical-align: top;\n",
       "    }\n",
       "\n",
       "    .dataframe thead th {\n",
       "        text-align: right;\n",
       "    }\n",
       "</style>\n",
       "<table border=\"1\" class=\"dataframe\">\n",
       "  <thead>\n",
       "    <tr style=\"text-align: right;\">\n",
       "      <th></th>\n",
       "      <th>original_title</th>\n",
       "      <th>director_name</th>\n",
       "      <th>popularity</th>\n",
       "    </tr>\n",
       "  </thead>\n",
       "  <tbody>\n",
       "    <tr>\n",
       "      <th>0</th>\n",
       "      <td>Minions</td>\n",
       "      <td>Kyle Balda</td>\n",
       "      <td>875</td>\n",
       "    </tr>\n",
       "    <tr>\n",
       "      <th>1</th>\n",
       "      <td>Interstellar</td>\n",
       "      <td>Christopher Nolan</td>\n",
       "      <td>724</td>\n",
       "    </tr>\n",
       "    <tr>\n",
       "      <th>2</th>\n",
       "      <td>Deadpool</td>\n",
       "      <td>Tim Miller</td>\n",
       "      <td>514</td>\n",
       "    </tr>\n",
       "    <tr>\n",
       "      <th>3</th>\n",
       "      <td>Guardians of the Galaxy</td>\n",
       "      <td>James Gunn</td>\n",
       "      <td>481</td>\n",
       "    </tr>\n",
       "    <tr>\n",
       "      <th>4</th>\n",
       "      <td>Mad Max: Fury Road</td>\n",
       "      <td>George Miller</td>\n",
       "      <td>434</td>\n",
       "    </tr>\n",
       "    <tr>\n",
       "      <th>5</th>\n",
       "      <td>Jurassic World</td>\n",
       "      <td>Colin Trevorrow</td>\n",
       "      <td>418</td>\n",
       "    </tr>\n",
       "    <tr>\n",
       "      <th>6</th>\n",
       "      <td>Pirates of the Caribbean: The Curse of the Bla...</td>\n",
       "      <td>Gore Verbinski</td>\n",
       "      <td>271</td>\n",
       "    </tr>\n",
       "    <tr>\n",
       "      <th>7</th>\n",
       "      <td>Dawn of the Planet of the Apes</td>\n",
       "      <td>Matt Reeves</td>\n",
       "      <td>243</td>\n",
       "    </tr>\n",
       "    <tr>\n",
       "      <th>8</th>\n",
       "      <td>The Hunger Games: Mockingjay - Part 1</td>\n",
       "      <td>Francis Lawrence</td>\n",
       "      <td>206</td>\n",
       "    </tr>\n",
       "    <tr>\n",
       "      <th>9</th>\n",
       "      <td>Big Hero 6</td>\n",
       "      <td>Chris Williams</td>\n",
       "      <td>203</td>\n",
       "    </tr>\n",
       "  </tbody>\n",
       "</table>\n",
       "</div>"
      ],
      "text/plain": [
       "                                      original_title      director_name  \\\n",
       "0                                            Minions         Kyle Balda   \n",
       "1                                       Interstellar  Christopher Nolan   \n",
       "2                                           Deadpool         Tim Miller   \n",
       "3                            Guardians of the Galaxy         James Gunn   \n",
       "4                                 Mad Max: Fury Road      George Miller   \n",
       "5                                     Jurassic World    Colin Trevorrow   \n",
       "6  Pirates of the Caribbean: The Curse of the Bla...     Gore Verbinski   \n",
       "7                     Dawn of the Planet of the Apes        Matt Reeves   \n",
       "8              The Hunger Games: Mockingjay - Part 1   Francis Lawrence   \n",
       "9                                         Big Hero 6     Chris Williams   \n",
       "\n",
       "   popularity  \n",
       "0         875  \n",
       "1         724  \n",
       "2         514  \n",
       "3         481  \n",
       "4         434  \n",
       "5         418  \n",
       "6         271  \n",
       "7         243  \n",
       "8         206  \n",
       "9         203  "
      ]
     },
     "execution_count": 24,
     "metadata": {},
     "output_type": "execute_result"
    }
   ],
   "source": [
    " # Query to list out top 10 popular movies\n",
    "\n",
    "query = 'SELECT original_title,  directors.name AS director_name, popularity FROM movies LEFT JOIN directors on movies.director_id = directors.id ORDER BY popularity DESC LIMIT 10'\n",
    "df = pd.read_sql (query,mycon)\n",
    "df"
   ]
  },
  {
   "cell_type": "markdown",
   "metadata": {
    "id": "DQmB3mfG4-aD"
   },
   "source": [
    "\n",
    "\n",
    "> ## Note:\n",
    "\n",
    "mostPopular Table Shows 10 Movies With The Highest Ranking By Popularity. \n",
    "\n",
    "Currently, Minions Directed By Kyle Balda Got The First Place With Score 875, Beating Interstellar As The Closest Competitor, Deadpool And The Other Competitors."
   ]
  },
  {
   "cell_type": "markdown",
   "metadata": {
    "id": "fI5lgquP4-aD"
   },
   "source": [
    "### Revenu Analysis"
   ]
  },
  {
   "cell_type": "markdown",
   "metadata": {
    "id": "GODmRpPz4-aD"
   },
   "source": [
    "**Question** - What are the top 10 Revenue  movies  "
   ]
  },
  {
   "cell_type": "code",
   "execution_count": 25,
   "metadata": {
    "id": "cd6au1JlGJBB"
   },
   "outputs": [
    {
     "data": {
      "text/html": [
       "<div>\n",
       "<style scoped>\n",
       "    .dataframe tbody tr th:only-of-type {\n",
       "        vertical-align: middle;\n",
       "    }\n",
       "\n",
       "    .dataframe tbody tr th {\n",
       "        vertical-align: top;\n",
       "    }\n",
       "\n",
       "    .dataframe thead th {\n",
       "        text-align: right;\n",
       "    }\n",
       "</style>\n",
       "<table border=\"1\" class=\"dataframe\">\n",
       "  <thead>\n",
       "    <tr style=\"text-align: right;\">\n",
       "      <th></th>\n",
       "      <th>original_title</th>\n",
       "      <th>director_name</th>\n",
       "      <th>revenue</th>\n",
       "    </tr>\n",
       "  </thead>\n",
       "  <tbody>\n",
       "    <tr>\n",
       "      <th>0</th>\n",
       "      <td>Avatar</td>\n",
       "      <td>James Cameron</td>\n",
       "      <td>2787965087</td>\n",
       "    </tr>\n",
       "    <tr>\n",
       "      <th>1</th>\n",
       "      <td>Titanic</td>\n",
       "      <td>James Cameron</td>\n",
       "      <td>1845034188</td>\n",
       "    </tr>\n",
       "    <tr>\n",
       "      <th>2</th>\n",
       "      <td>The Avengers</td>\n",
       "      <td>Joss Whedon</td>\n",
       "      <td>1519557910</td>\n",
       "    </tr>\n",
       "    <tr>\n",
       "      <th>3</th>\n",
       "      <td>Jurassic World</td>\n",
       "      <td>Colin Trevorrow</td>\n",
       "      <td>1513528810</td>\n",
       "    </tr>\n",
       "    <tr>\n",
       "      <th>4</th>\n",
       "      <td>Furious 7</td>\n",
       "      <td>James Wan</td>\n",
       "      <td>1506249360</td>\n",
       "    </tr>\n",
       "    <tr>\n",
       "      <th>5</th>\n",
       "      <td>Avengers: Age of Ultron</td>\n",
       "      <td>Joss Whedon</td>\n",
       "      <td>1405403694</td>\n",
       "    </tr>\n",
       "    <tr>\n",
       "      <th>6</th>\n",
       "      <td>Frozen</td>\n",
       "      <td>Chris Buck</td>\n",
       "      <td>1274219009</td>\n",
       "    </tr>\n",
       "    <tr>\n",
       "      <th>7</th>\n",
       "      <td>Iron Man 3</td>\n",
       "      <td>Shane Black</td>\n",
       "      <td>1215439994</td>\n",
       "    </tr>\n",
       "    <tr>\n",
       "      <th>8</th>\n",
       "      <td>Minions</td>\n",
       "      <td>Kyle Balda</td>\n",
       "      <td>1156730962</td>\n",
       "    </tr>\n",
       "    <tr>\n",
       "      <th>9</th>\n",
       "      <td>Captain America: Civil War</td>\n",
       "      <td>Anthony Russo</td>\n",
       "      <td>1153304495</td>\n",
       "    </tr>\n",
       "  </tbody>\n",
       "</table>\n",
       "</div>"
      ],
      "text/plain": [
       "               original_title    director_name     revenue\n",
       "0                      Avatar    James Cameron  2787965087\n",
       "1                     Titanic    James Cameron  1845034188\n",
       "2                The Avengers      Joss Whedon  1519557910\n",
       "3              Jurassic World  Colin Trevorrow  1513528810\n",
       "4                   Furious 7        James Wan  1506249360\n",
       "5     Avengers: Age of Ultron      Joss Whedon  1405403694\n",
       "6                      Frozen       Chris Buck  1274219009\n",
       "7                  Iron Man 3      Shane Black  1215439994\n",
       "8                     Minions       Kyle Balda  1156730962\n",
       "9  Captain America: Civil War    Anthony Russo  1153304495"
      ]
     },
     "execution_count": 25,
     "metadata": {},
     "output_type": "execute_result"
    }
   ],
   "source": [
    "# Query to get top 10 profitabble movies\n",
    "query = 'SELECT original_title,  directors.name AS director_name, revenue FROM movies LEFT JOIN directors on movies.director_id = directors.id ORDER BY revenue DESC LIMIT 10'\n",
    "df = pd.read_sql (query,mycon)\n",
    "df"
   ]
  },
  {
   "cell_type": "markdown",
   "metadata": {
    "id": "_sAc8_3E4-aD"
   },
   "source": [
    "\n",
    "\n",
    "> ## Note :\n",
    "\n",
    "The mostProfit Table Shows The 10 Movies Got The Highest Gross Profit When Compared To The Other Movies.\n",
    "\n",
    "It Turns Out That Avatar Directed By James Cameron Got A Gross Profit USD 2,787,965,087. It's Make Avatar In First Place, Followed By Titanic, The Avengers, Jurassic World, And Others.\n",
    "\n",
    "From The Table, It Can Be Seen That James Cameron Make Two Movies To Fill The First And Second Place On The Rankings.\n",
    "\n"
   ]
  },
  {
   "cell_type": "markdown",
   "metadata": {
    "id": "JfVvbYLY4-aD"
   },
   "source": [
    "**Question** - Display most popular movies with vote_average"
   ]
  },
  {
   "cell_type": "code",
   "execution_count": 26,
   "metadata": {
    "id": "7FXnTwaCGIO5"
   },
   "outputs": [
    {
     "data": {
      "text/html": [
       "<div>\n",
       "<style scoped>\n",
       "    .dataframe tbody tr th:only-of-type {\n",
       "        vertical-align: middle;\n",
       "    }\n",
       "\n",
       "    .dataframe tbody tr th {\n",
       "        vertical-align: top;\n",
       "    }\n",
       "\n",
       "    .dataframe thead th {\n",
       "        text-align: right;\n",
       "    }\n",
       "</style>\n",
       "<table border=\"1\" class=\"dataframe\">\n",
       "  <thead>\n",
       "    <tr style=\"text-align: right;\">\n",
       "      <th></th>\n",
       "      <th>original_title</th>\n",
       "      <th>director_name</th>\n",
       "      <th>vote_average</th>\n",
       "    </tr>\n",
       "  </thead>\n",
       "  <tbody>\n",
       "    <tr>\n",
       "      <th>0</th>\n",
       "      <td>Minions</td>\n",
       "      <td>Kyle Balda</td>\n",
       "      <td>6.4</td>\n",
       "    </tr>\n",
       "    <tr>\n",
       "      <th>1</th>\n",
       "      <td>Interstellar</td>\n",
       "      <td>Christopher Nolan</td>\n",
       "      <td>8.1</td>\n",
       "    </tr>\n",
       "    <tr>\n",
       "      <th>2</th>\n",
       "      <td>Deadpool</td>\n",
       "      <td>Tim Miller</td>\n",
       "      <td>7.4</td>\n",
       "    </tr>\n",
       "    <tr>\n",
       "      <th>3</th>\n",
       "      <td>Guardians of the Galaxy</td>\n",
       "      <td>James Gunn</td>\n",
       "      <td>7.9</td>\n",
       "    </tr>\n",
       "    <tr>\n",
       "      <th>4</th>\n",
       "      <td>Mad Max: Fury Road</td>\n",
       "      <td>George Miller</td>\n",
       "      <td>7.2</td>\n",
       "    </tr>\n",
       "    <tr>\n",
       "      <th>5</th>\n",
       "      <td>Jurassic World</td>\n",
       "      <td>Colin Trevorrow</td>\n",
       "      <td>6.5</td>\n",
       "    </tr>\n",
       "    <tr>\n",
       "      <th>6</th>\n",
       "      <td>Pirates of the Caribbean: The Curse of the Bla...</td>\n",
       "      <td>Gore Verbinski</td>\n",
       "      <td>7.5</td>\n",
       "    </tr>\n",
       "    <tr>\n",
       "      <th>7</th>\n",
       "      <td>Dawn of the Planet of the Apes</td>\n",
       "      <td>Matt Reeves</td>\n",
       "      <td>7.3</td>\n",
       "    </tr>\n",
       "    <tr>\n",
       "      <th>8</th>\n",
       "      <td>The Hunger Games: Mockingjay - Part 1</td>\n",
       "      <td>Francis Lawrence</td>\n",
       "      <td>6.6</td>\n",
       "    </tr>\n",
       "    <tr>\n",
       "      <th>9</th>\n",
       "      <td>Big Hero 6</td>\n",
       "      <td>Chris Williams</td>\n",
       "      <td>7.8</td>\n",
       "    </tr>\n",
       "  </tbody>\n",
       "</table>\n",
       "</div>"
      ],
      "text/plain": [
       "                                      original_title      director_name  \\\n",
       "0                                            Minions         Kyle Balda   \n",
       "1                                       Interstellar  Christopher Nolan   \n",
       "2                                           Deadpool         Tim Miller   \n",
       "3                            Guardians of the Galaxy         James Gunn   \n",
       "4                                 Mad Max: Fury Road      George Miller   \n",
       "5                                     Jurassic World    Colin Trevorrow   \n",
       "6  Pirates of the Caribbean: The Curse of the Bla...     Gore Verbinski   \n",
       "7                     Dawn of the Planet of the Apes        Matt Reeves   \n",
       "8              The Hunger Games: Mockingjay - Part 1   Francis Lawrence   \n",
       "9                                         Big Hero 6     Chris Williams   \n",
       "\n",
       "   vote_average  \n",
       "0           6.4  \n",
       "1           8.1  \n",
       "2           7.4  \n",
       "3           7.9  \n",
       "4           7.2  \n",
       "5           6.5  \n",
       "6           7.5  \n",
       "7           7.3  \n",
       "8           6.6  \n",
       "9           7.8  "
      ]
     },
     "execution_count": 26,
     "metadata": {},
     "output_type": "execute_result"
    }
   ],
   "source": [
    "# Query to get the popular movie based on vote average\n",
    "query = 'SELECT original_title,  directors.name AS director_name, vote_average FROM movies LEFT JOIN directors on movies.director_id = directors.id ORDER BY popularity DESC LIMIT 10'\n",
    "df = pd.read_sql (query,mycon)\n",
    "df"
   ]
  },
  {
   "cell_type": "markdown",
   "metadata": {
    "id": "nhVMlQlD4-aE"
   },
   "source": [
    "\n",
    "\n",
    "> ## Note : \n",
    "\n",
    "From the mostProfit Table, It Can Be Seen That The Movies In The First And Second Rank Is A Movies Directed By James Cameron.\n",
    "\n",
    "In The Table moviesByJamesCameron Shows All Movies Directed By James Cameron."
   ]
  },
  {
   "cell_type": "markdown",
   "metadata": {
    "id": "Jn1t57V84-aE"
   },
   "source": [
    "### Voting Analysis"
   ]
  },
  {
   "cell_type": "markdown",
   "metadata": {
    "id": "L-iO_9la4-aE"
   },
   "source": [
    "**Question** - List out Particular movie for Voting average and votecount "
   ]
  },
  {
   "cell_type": "code",
   "execution_count": 27,
   "metadata": {
    "id": "Ml8ovFRrGHfv"
   },
   "outputs": [
    {
     "data": {
      "text/html": [
       "<div>\n",
       "<style scoped>\n",
       "    .dataframe tbody tr th:only-of-type {\n",
       "        vertical-align: middle;\n",
       "    }\n",
       "\n",
       "    .dataframe tbody tr th {\n",
       "        vertical-align: top;\n",
       "    }\n",
       "\n",
       "    .dataframe thead th {\n",
       "        text-align: right;\n",
       "    }\n",
       "</style>\n",
       "<table border=\"1\" class=\"dataframe\">\n",
       "  <thead>\n",
       "    <tr style=\"text-align: right;\">\n",
       "      <th></th>\n",
       "      <th>original_title</th>\n",
       "      <th>vote_average</th>\n",
       "      <th>vote_count</th>\n",
       "      <th>name</th>\n",
       "    </tr>\n",
       "  </thead>\n",
       "  <tbody>\n",
       "    <tr>\n",
       "      <th>0</th>\n",
       "      <td>Stiff Upper Lips</td>\n",
       "      <td>10.0</td>\n",
       "      <td>1</td>\n",
       "      <td>Gary Sinyor</td>\n",
       "    </tr>\n",
       "    <tr>\n",
       "      <th>1</th>\n",
       "      <td>Dancer, Texas Pop. 81</td>\n",
       "      <td>10.0</td>\n",
       "      <td>1</td>\n",
       "      <td>Tim McCanlies</td>\n",
       "    </tr>\n",
       "    <tr>\n",
       "      <th>2</th>\n",
       "      <td>Sardaarji</td>\n",
       "      <td>9.5</td>\n",
       "      <td>2</td>\n",
       "      <td>Rohit Jugraj</td>\n",
       "    </tr>\n",
       "    <tr>\n",
       "      <th>3</th>\n",
       "      <td>One Man's Hero</td>\n",
       "      <td>9.3</td>\n",
       "      <td>2</td>\n",
       "      <td>Lance Hool</td>\n",
       "    </tr>\n",
       "    <tr>\n",
       "      <th>4</th>\n",
       "      <td>The Shawshank Redemption</td>\n",
       "      <td>8.5</td>\n",
       "      <td>8205</td>\n",
       "      <td>Frank Darabont</td>\n",
       "    </tr>\n",
       "    <tr>\n",
       "      <th>...</th>\n",
       "      <td>...</td>\n",
       "      <td>...</td>\n",
       "      <td>...</td>\n",
       "      <td>...</td>\n",
       "    </tr>\n",
       "    <tr>\n",
       "      <th>4768</th>\n",
       "      <td>The Legend of God's Gun</td>\n",
       "      <td>0.0</td>\n",
       "      <td>0</td>\n",
       "      <td>Mike Bruce</td>\n",
       "    </tr>\n",
       "    <tr>\n",
       "      <th>4769</th>\n",
       "      <td>Her Cry: La Llorona Investigation</td>\n",
       "      <td>0.0</td>\n",
       "      <td>0</td>\n",
       "      <td>Damir Catic</td>\n",
       "    </tr>\n",
       "    <tr>\n",
       "      <th>4770</th>\n",
       "      <td>Dutch Kills</td>\n",
       "      <td>0.0</td>\n",
       "      <td>0</td>\n",
       "      <td>Joseph Mazzella</td>\n",
       "    </tr>\n",
       "    <tr>\n",
       "      <th>4771</th>\n",
       "      <td>Stories of Our Lives</td>\n",
       "      <td>0.0</td>\n",
       "      <td>0</td>\n",
       "      <td>Jim Chuchu</td>\n",
       "    </tr>\n",
       "    <tr>\n",
       "      <th>4772</th>\n",
       "      <td>Sanctuary: Quite a Conundrum</td>\n",
       "      <td>0.0</td>\n",
       "      <td>0</td>\n",
       "      <td>Thomas L. Phillips</td>\n",
       "    </tr>\n",
       "  </tbody>\n",
       "</table>\n",
       "<p>4773 rows × 4 columns</p>\n",
       "</div>"
      ],
      "text/plain": [
       "                         original_title  vote_average  vote_count  \\\n",
       "0                      Stiff Upper Lips          10.0           1   \n",
       "1                 Dancer, Texas Pop. 81          10.0           1   \n",
       "2                             Sardaarji           9.5           2   \n",
       "3                        One Man's Hero           9.3           2   \n",
       "4              The Shawshank Redemption           8.5        8205   \n",
       "...                                 ...           ...         ...   \n",
       "4768            The Legend of God's Gun           0.0           0   \n",
       "4769  Her Cry: La Llorona Investigation           0.0           0   \n",
       "4770                        Dutch Kills           0.0           0   \n",
       "4771               Stories of Our Lives           0.0           0   \n",
       "4772       Sanctuary: Quite a Conundrum           0.0           0   \n",
       "\n",
       "                    name  \n",
       "0            Gary Sinyor  \n",
       "1          Tim McCanlies  \n",
       "2           Rohit Jugraj  \n",
       "3             Lance Hool  \n",
       "4         Frank Darabont  \n",
       "...                  ...  \n",
       "4768          Mike Bruce  \n",
       "4769         Damir Catic  \n",
       "4770     Joseph Mazzella  \n",
       "4771          Jim Chuchu  \n",
       "4772  Thomas L. Phillips  \n",
       "\n",
       "[4773 rows x 4 columns]"
      ]
     },
     "execution_count": 27,
     "metadata": {},
     "output_type": "execute_result"
    }
   ],
   "source": [
    "# query to select the movie with vote average and vote count\n",
    "query = 'SELECT original_title, vote_average, vote_count, directors.name FROM movies LEFT JOIN directors ON movies.director_id = directors.id ORDER BY vote_average DESC '\n",
    "\n",
    "df = pd.read_sql(query, mycon)\n",
    "df"
   ]
  },
  {
   "cell_type": "code",
   "execution_count": 28,
   "metadata": {
    "id": "BwbgHohtI6mW"
   },
   "outputs": [
    {
     "data": {
      "text/html": [
       "<div>\n",
       "<style scoped>\n",
       "    .dataframe tbody tr th:only-of-type {\n",
       "        vertical-align: middle;\n",
       "    }\n",
       "\n",
       "    .dataframe tbody tr th {\n",
       "        vertical-align: top;\n",
       "    }\n",
       "\n",
       "    .dataframe thead th {\n",
       "        text-align: right;\n",
       "    }\n",
       "</style>\n",
       "<table border=\"1\" class=\"dataframe\">\n",
       "  <thead>\n",
       "    <tr style=\"text-align: right;\">\n",
       "      <th></th>\n",
       "      <th>original_title</th>\n",
       "      <th>vote_average</th>\n",
       "      <th>vote_count</th>\n",
       "      <th>name</th>\n",
       "    </tr>\n",
       "  </thead>\n",
       "  <tbody>\n",
       "    <tr>\n",
       "      <th>0</th>\n",
       "      <td>Inception</td>\n",
       "      <td>8.1</td>\n",
       "      <td>13752</td>\n",
       "      <td>Christopher Nolan</td>\n",
       "    </tr>\n",
       "  </tbody>\n",
       "</table>\n",
       "</div>"
      ],
      "text/plain": [
       "  original_title  vote_average  vote_count               name\n",
       "0      Inception           8.1       13752  Christopher Nolan"
      ]
     },
     "execution_count": 28,
     "metadata": {},
     "output_type": "execute_result"
    }
   ],
   "source": [
    "# Query to get a particular movie with the vote average and vote count\n",
    "query = 'SELECT original_title, vote_average, vote_count, directors.name FROM movies LEFT JOIN directors ON movies.director_id = directors.id WHERE movies.original_title = \"Inception\"'\n",
    "\n",
    "df = pd.read_sql(query, mycon)\n",
    "df"
   ]
  },
  {
   "cell_type": "markdown",
   "metadata": {
    "id": "sRiI9IvD4-aE"
   },
   "source": [
    " \n",
    "\n",
    "> ## Note :\n",
    "\n",
    "BestVote Table Contains The Best Movies By Vote. Stiff Upper Lips, Directed By Gary Sinyor And Dancer, Texas Pop. 81 Directed by the MacCanlies Was Successfully Becomes the Best Movies By Vote With Perfect Score, 10.\n",
    "\n",
    "However, There Are Anomalies. It Turned Out That The Two Movies Were Only Vote By One Person. So, Likely to Affect The Assessment Results.."
   ]
  },
  {
   "cell_type": "markdown",
   "metadata": {
    "id": "ucXT_tyM4-aE"
   },
   "source": [
    "### CORRELATION\n",
    "- **Correlation** is also a statistical technique that determines how the change of one variable related to another variable affects the relationship.\n",
    "-  it defines the degree of relation between two variables. There exist three types of correlations - positive and negative, and zero correlations. \n",
    "\n",
    "\n",
    "\n",
    "> The main intention of Seaborn heatmap is to visualize the correlation matrix of data for feature selection to solve business problems\n",
    "> Python data visualization seaborn library has a powerful function that is called sns.heatmap(). \n",
    "> annot — **annot** when set to True, the correlation values become visible on the colored cells\n",
    "> linewidth- **linewidth** Width of the lines that will divide each cell.\n"
   ]
  },
  {
   "cell_type": "code",
   "execution_count": 29,
   "metadata": {
    "id": "nRpp5Q0A4-aE",
    "outputId": "a8ac42dc-5b2b-4bf8-f24f-4bdd8ba3f40b"
   },
   "outputs": [
    {
     "data": {
      "image/png": "[encoded data removed]",
      "text/plain": [
       "<Figure size 576x576 with 2 Axes>"
      ]
     },
     "metadata": {},
     "output_type": "display_data"
    }
   ],
   "source": [
    "# plot a heatmap of correlation\n",
    "#corr() is used to create the correlation matrix.\n",
    "#You'll have to make sure that all the elements in the matrix are of numeric type. \n",
    "#If they are not of the numeric type you'll have to add or concat them explicitly.\n",
    "\n",
    "sns.set(rc = {'figure.figsize': (8, 8)})\n",
    "sns.heatmap(movies[['budget', 'popularity', 'revenue', 'vote_average', 'director_id']].corr(), \n",
    "            annot = True, fmt = '.2f', linewidth = 1);"
   ]
  },
  {
   "cell_type": "markdown",
   "metadata": {
    "id": "cvCTPgDo4-aF"
   },
   "source": [
    "\n",
    "\n",
    "> ## Note On correlation :\n",
    "\n",
    "The Heat Map Graph Shows The Effect Between One Variable To The Other Variables. \n",
    "\n",
    "In The Graph, It Is Clear That budget Has The Greatest Impact on revenue with 0.73. \n",
    "\n",
    "Meanwhile, popularity Is Quite Impact On revenue, And director_id Which Means director_name Also Has A Correlation With revenue, Even Though It Is Small. \n",
    "\n",
    "However, vote_average Has A Very Small Correlation With revenue."
   ]
  },
  {
   "cell_type": "markdown",
   "metadata": {
    "id": "HbIEjB_A4-aF"
   },
   "source": [
    "### Directors"
   ]
  },
  {
   "cell_type": "markdown",
   "metadata": {
    "id": "13tDrtk24-aF"
   },
   "source": [
    "**Question**- List out the  director names with number of movies and revenue"
   ]
  },
  {
   "cell_type": "code",
   "execution_count": 30,
   "metadata": {
    "id": "G6BA6E3bJNCo"
   },
   "outputs": [
    {
     "data": {
      "text/html": [
       "<div>\n",
       "<style scoped>\n",
       "    .dataframe tbody tr th:only-of-type {\n",
       "        vertical-align: middle;\n",
       "    }\n",
       "\n",
       "    .dataframe tbody tr th {\n",
       "        vertical-align: top;\n",
       "    }\n",
       "\n",
       "    .dataframe thead th {\n",
       "        text-align: right;\n",
       "    }\n",
       "</style>\n",
       "<table border=\"1\" class=\"dataframe\">\n",
       "  <thead>\n",
       "    <tr style=\"text-align: right;\">\n",
       "      <th></th>\n",
       "      <th>id</th>\n",
       "      <th>name</th>\n",
       "      <th>movie_count</th>\n",
       "      <th>total_revenue</th>\n",
       "    </tr>\n",
       "  </thead>\n",
       "  <tbody>\n",
       "    <tr>\n",
       "      <th>0</th>\n",
       "      <td>6671</td>\n",
       "      <td>Aaron Hann</td>\n",
       "      <td>1</td>\n",
       "      <td>0</td>\n",
       "    </tr>\n",
       "    <tr>\n",
       "      <th>1</th>\n",
       "      <td>6252</td>\n",
       "      <td>Aaron Schneider</td>\n",
       "      <td>1</td>\n",
       "      <td>0</td>\n",
       "    </tr>\n",
       "    <tr>\n",
       "      <th>2</th>\n",
       "      <td>5974</td>\n",
       "      <td>Abel Ferrara</td>\n",
       "      <td>1</td>\n",
       "      <td>1227324</td>\n",
       "    </tr>\n",
       "    <tr>\n",
       "      <th>3</th>\n",
       "      <td>6247</td>\n",
       "      <td>Adam Brooks</td>\n",
       "      <td>1</td>\n",
       "      <td>55447968</td>\n",
       "    </tr>\n",
       "    <tr>\n",
       "      <th>4</th>\n",
       "      <td>6742</td>\n",
       "      <td>Adam Carolla</td>\n",
       "      <td>1</td>\n",
       "      <td>0</td>\n",
       "    </tr>\n",
       "    <tr>\n",
       "      <th>...</th>\n",
       "      <td>...</td>\n",
       "      <td>...</td>\n",
       "      <td>...</td>\n",
       "      <td>...</td>\n",
       "    </tr>\n",
       "    <tr>\n",
       "      <th>2344</th>\n",
       "      <td>5043</td>\n",
       "      <td>Àlex Pastor</td>\n",
       "      <td>1</td>\n",
       "      <td>5802422</td>\n",
       "    </tr>\n",
       "    <tr>\n",
       "      <th>2345</th>\n",
       "      <td>6127</td>\n",
       "      <td>Álex de la Iglesia</td>\n",
       "      <td>1</td>\n",
       "      <td>0</td>\n",
       "    </tr>\n",
       "    <tr>\n",
       "      <th>2346</th>\n",
       "      <td>6338</td>\n",
       "      <td>Émile Gaudreault</td>\n",
       "      <td>1</td>\n",
       "      <td>3031801</td>\n",
       "    </tr>\n",
       "    <tr>\n",
       "      <th>2347</th>\n",
       "      <td>6603</td>\n",
       "      <td>Éric Tessier</td>\n",
       "      <td>1</td>\n",
       "      <td>0</td>\n",
       "    </tr>\n",
       "    <tr>\n",
       "      <th>2348</th>\n",
       "      <td>6993</td>\n",
       "      <td>Étienne Faure</td>\n",
       "      <td>1</td>\n",
       "      <td>0</td>\n",
       "    </tr>\n",
       "  </tbody>\n",
       "</table>\n",
       "<p>2349 rows × 4 columns</p>\n",
       "</div>"
      ],
      "text/plain": [
       "        id                name  movie_count  total_revenue\n",
       "0     6671          Aaron Hann            1              0\n",
       "1     6252     Aaron Schneider            1              0\n",
       "2     5974        Abel Ferrara            1        1227324\n",
       "3     6247         Adam Brooks            1       55447968\n",
       "4     6742        Adam Carolla            1              0\n",
       "...    ...                 ...          ...            ...\n",
       "2344  5043         Àlex Pastor            1        5802422\n",
       "2345  6127  Álex de la Iglesia            1              0\n",
       "2346  6338    Émile Gaudreault            1        3031801\n",
       "2347  6603        Éric Tessier            1              0\n",
       "2348  6993       Étienne Faure            1              0\n",
       "\n",
       "[2349 rows x 4 columns]"
      ]
     },
     "execution_count": 30,
     "metadata": {},
     "output_type": "execute_result"
    }
   ],
   "source": [
    "# Query to list the directors with the number of movies and sum of the revenue\n",
    "query = 'SELECT directors.id, name, count(movies.title) AS movie_count, sum(revenue) AS total_revenue FROM directors LEFT JOIN movies ON directors.id = movies.director_id GROUP BY name '\n",
    "df = pd.read_sql(query, mycon)\n",
    "df\n",
    "\n",
    "# Folloing print is used to print all the data of the DataFrame\n",
    "\n",
    "# print(df.to_string())"
   ]
  },
  {
   "cell_type": "code",
   "execution_count": 31,
   "metadata": {
    "id": "Ac6NcnXCJNCp"
   },
   "outputs": [
    {
     "name": "stdout",
     "output_type": "stream",
     "text": [
      "True     2424\n",
      "False    2349\n",
      "dtype: int64\n"
     ]
    }
   ],
   "source": [
    "# Checking the duplicate exists or not\n",
    "\n",
    "print(movies_df.duplicated(['director_id']).value_counts())"
   ]
  },
  {
   "cell_type": "markdown",
   "metadata": {
    "id": "KRl11QJR4-aF"
   },
   "source": [
    "\n",
    "\n",
    "> ## Note :\n",
    "\n",
    "The mostProfitableDirector Table Shows The Directors With The Highest Gross Profit. \n",
    "\n",
    "Currently, Steven Spielberg Is The Director With The Most Gross Profit, with USD 9,147,393,164 from his 27 movies. \n",
    "\n",
    "Then, Peter Jackson With USD 6,498,642,820, James Cameron With USD 5,883,569,439, And The Other Directors."
   ]
  },
  {
   "cell_type": "markdown",
   "metadata": {
    "id": "fVsAGWJd4-aF"
   },
   "source": [
    "**Question** - Display all the number of movies for particular director and revenue ."
   ]
  },
  {
   "cell_type": "code",
   "execution_count": 32,
   "metadata": {
    "id": "bx80mB1ZJOoc"
   },
   "outputs": [
    {
     "data": {
      "text/html": [
       "<div>\n",
       "<style scoped>\n",
       "    .dataframe tbody tr th:only-of-type {\n",
       "        vertical-align: middle;\n",
       "    }\n",
       "\n",
       "    .dataframe tbody tr th {\n",
       "        vertical-align: top;\n",
       "    }\n",
       "\n",
       "    .dataframe thead th {\n",
       "        text-align: right;\n",
       "    }\n",
       "</style>\n",
       "<table border=\"1\" class=\"dataframe\">\n",
       "  <thead>\n",
       "    <tr style=\"text-align: right;\">\n",
       "      <th></th>\n",
       "      <th>name</th>\n",
       "      <th>number_of_movies</th>\n",
       "      <th>total_revenue</th>\n",
       "    </tr>\n",
       "  </thead>\n",
       "  <tbody>\n",
       "    <tr>\n",
       "      <th>0</th>\n",
       "      <td>Steven Spielberg</td>\n",
       "      <td>27</td>\n",
       "      <td>9147393164</td>\n",
       "    </tr>\n",
       "    <tr>\n",
       "      <th>1</th>\n",
       "      <td>Woody Allen</td>\n",
       "      <td>21</td>\n",
       "      <td>669101038</td>\n",
       "    </tr>\n",
       "    <tr>\n",
       "      <th>2</th>\n",
       "      <td>Martin Scorsese</td>\n",
       "      <td>20</td>\n",
       "      <td>1956635998</td>\n",
       "    </tr>\n",
       "    <tr>\n",
       "      <th>3</th>\n",
       "      <td>Clint Eastwood</td>\n",
       "      <td>20</td>\n",
       "      <td>2512058888</td>\n",
       "    </tr>\n",
       "    <tr>\n",
       "      <th>4</th>\n",
       "      <td>Spike Lee</td>\n",
       "      <td>16</td>\n",
       "      <td>340618771</td>\n",
       "    </tr>\n",
       "    <tr>\n",
       "      <th>5</th>\n",
       "      <td>Robert Rodriguez</td>\n",
       "      <td>16</td>\n",
       "      <td>1109899581</td>\n",
       "    </tr>\n",
       "    <tr>\n",
       "      <th>6</th>\n",
       "      <td>Ridley Scott</td>\n",
       "      <td>16</td>\n",
       "      <td>3189557997</td>\n",
       "    </tr>\n",
       "    <tr>\n",
       "      <th>7</th>\n",
       "      <td>Steven Soderbergh</td>\n",
       "      <td>15</td>\n",
       "      <td>2114864443</td>\n",
       "    </tr>\n",
       "    <tr>\n",
       "      <th>8</th>\n",
       "      <td>Renny Harlin</td>\n",
       "      <td>15</td>\n",
       "      <td>1031500590</td>\n",
       "    </tr>\n",
       "    <tr>\n",
       "      <th>9</th>\n",
       "      <td>Tim Burton</td>\n",
       "      <td>14</td>\n",
       "      <td>3337418241</td>\n",
       "    </tr>\n",
       "    <tr>\n",
       "      <th>10</th>\n",
       "      <td>Oliver Stone</td>\n",
       "      <td>14</td>\n",
       "      <td>1278048615</td>\n",
       "    </tr>\n",
       "    <tr>\n",
       "      <th>11</th>\n",
       "      <td>Ron Howard</td>\n",
       "      <td>13</td>\n",
       "      <td>2877390547</td>\n",
       "    </tr>\n",
       "    <tr>\n",
       "      <th>12</th>\n",
       "      <td>Robert Zemeckis</td>\n",
       "      <td>13</td>\n",
       "      <td>3590622002</td>\n",
       "    </tr>\n",
       "    <tr>\n",
       "      <th>13</th>\n",
       "      <td>Joel Schumacher</td>\n",
       "      <td>13</td>\n",
       "      <td>1437036597</td>\n",
       "    </tr>\n",
       "    <tr>\n",
       "      <th>14</th>\n",
       "      <td>Barry Levinson</td>\n",
       "      <td>13</td>\n",
       "      <td>1109252230</td>\n",
       "    </tr>\n",
       "  </tbody>\n",
       "</table>\n",
       "</div>"
      ],
      "text/plain": [
       "                 name  number_of_movies  total_revenue\n",
       "0    Steven Spielberg                27     9147393164\n",
       "1         Woody Allen                21      669101038\n",
       "2     Martin Scorsese                20     1956635998\n",
       "3      Clint Eastwood                20     2512058888\n",
       "4           Spike Lee                16      340618771\n",
       "5    Robert Rodriguez                16     1109899581\n",
       "6        Ridley Scott                16     3189557997\n",
       "7   Steven Soderbergh                15     2114864443\n",
       "8        Renny Harlin                15     1031500590\n",
       "9          Tim Burton                14     3337418241\n",
       "10       Oliver Stone                14     1278048615\n",
       "11         Ron Howard                13     2877390547\n",
       "12    Robert Zemeckis                13     3590622002\n",
       "13    Joel Schumacher                13     1437036597\n",
       "14     Barry Levinson                13     1109252230"
      ]
     },
     "execution_count": 32,
     "metadata": {},
     "output_type": "execute_result"
    }
   ],
   "source": [
    "# Query to display the number of movies and revenue order by descending on count of movies\n",
    "\n",
    "query = 'SELECT directors.name, count(movies.id) AS number_of_movies, sum(movies.revenue) AS total_revenue FROM movies LEFT JOIN directors ON directors.id = movies.director_id GROUP BY directors.name ORDER BY count(movies.id) DESC'\n",
    "df = pd.read_sql(query, mycon)\n",
    "df.head(15)"
   ]
  },
  {
   "cell_type": "markdown",
   "metadata": {
    "id": "alueKFaJ4-aF"
   },
   "source": [
    "\n",
    "\n",
    "> ### Note :\n",
    "\n",
    "The mostProductiveDirector Table Contains The Name Of The Director And The Number Of Movies It Has Directed By Him. \n",
    "\n",
    "Steven Spielberg Is The Most Productive Director With 27 Movies Titles He Has Directed. Meanwhile, Woody Allen Has Only 21 Movies Titles. \n",
    "\n",
    "Then, Martin Scorsese And Clint Eastwood With 20 Movies Titles.\n"
   ]
  },
  {
   "cell_type": "markdown",
   "metadata": {
    "id": "7yRwmgPU4-aG"
   },
   "source": [
    "**Question**- By doing Director analysis We know Steven Spielberg is the highest revenue, so list the Steven Spielberg movies info"
   ]
  },
  {
   "cell_type": "code",
   "execution_count": 33,
   "metadata": {
    "id": "_Ejh-orVJQsO"
   },
   "outputs": [
    {
     "name": "stdout",
     "output_type": "stream",
     "text": [
      "<class 'pandas.core.frame.DataFrame'>\n",
      "Int64Index: 27 entries, 53 to 3006\n",
      "Data columns (total 18 columns):\n",
      " #   Column          Non-Null Count  Dtype  \n",
      "---  ------          --------------  -----  \n",
      " 0   id              27 non-null     int64  \n",
      " 1   original_title  27 non-null     object \n",
      " 2   budget          27 non-null     int64  \n",
      " 3   popularity      27 non-null     int64  \n",
      " 4   release_date    27 non-null     object \n",
      " 5   revenue         27 non-null     int64  \n",
      " 6   title           27 non-null     object \n",
      " 7   vote_average    27 non-null     float64\n",
      " 8   vote_count      27 non-null     int64  \n",
      " 9   overview        27 non-null     object \n",
      " 10  tagline         27 non-null     object \n",
      " 11  uid             27 non-null     int64  \n",
      " 12  director_id     27 non-null     int64  \n",
      " 13  name            27 non-null     object \n",
      " 14  id              27 non-null     int64  \n",
      " 15  gender          27 non-null     int64  \n",
      " 16  uid             27 non-null     int64  \n",
      " 17  department      27 non-null     object \n",
      "dtypes: float64(1), int64(10), object(7)\n",
      "memory usage: 4.0+ KB\n"
     ]
    }
   ],
   "source": [
    "# Query to join 2 tables\n",
    "query  = 'SELECT * FROM movies LEFT JOIN directors ON movies.director_id  =  directors.id'\n",
    "df = pd.read_sql(query, mycon)\n",
    "\n",
    "# Showing DataFrame info method for Steven Spielberg\n",
    "df[df['name']=='Steven Spielberg'].info()"
   ]
  },
  {
   "cell_type": "markdown",
   "metadata": {
    "id": "8ZIWbq2l4-aG"
   },
   "source": [
    "\n",
    "\n",
    "> ## Note : \n",
    "\n",
    "From Two Tables Above, mostProfitableDirector And mostProductiveDirector, It Can Be Seen That Steven Spielberg Is Always In The First Place. \n",
    "\n",
    "It Can Be Understood That Steven Spielberg Has Produced Many And Incredible Movies That Are Shows In The Table MoviesByStevenSpielberg Above.\n",
    "\n"
   ]
  }
 ],
 "metadata": {
  "colab": {
   "provenance": []
  },
  "kernelspec": {
   "display_name": "Python 3 (ipykernel)",
   "language": "python",
   "name": "python3"
  },
  "language_info": {
   "codemirror_mode": {
    "name": "ipython",
    "version": 3
   },
   "file_extension": ".py",
   "mimetype": "text/x-python",
   "name": "python",
   "nbconvert_exporter": "python",
   "pygments_lexer": "ipython3",
   "version": "3.9.12"
  }
 },
 "nbformat": 4,
 "nbformat_minor": 4
}
